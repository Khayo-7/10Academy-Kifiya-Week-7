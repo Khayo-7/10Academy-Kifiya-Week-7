{
 "cells": [
  {
   "cell_type": "code",
   "execution_count": 1,
   "metadata": {},
   "outputs": [],
   "source": [
    "# from importib import reload\n",
    "%load_ext autoreload"
   ]
  },
  {
   "cell_type": "code",
   "execution_count": 2,
   "metadata": {},
   "outputs": [],
   "source": [
    "import os\n",
    "import sys\n",
    "sys.path.append('..')\n",
    "\n",
    "from scripts.utils.monitor import main\n",
    "from scripts.utils.scraper import run_fetch_process\n",
    "from scripts.data_utils.loaders import *\n",
    "from scripts.data_utils.preprocess import preprocess_data, merge_files\n",
    "\n",
    "%autoreload 2"
   ]
  },
  {
   "cell_type": "code",
   "execution_count": 3,
   "metadata": {},
   "outputs": [],
   "source": [
    "CONFIG_PATH = os.path.join('..', 'resources', 'configs')\n",
    "DATA_PATH = os.path.join('..', 'resources', 'data')\n",
    "\n",
    "raw_dir = os.path.join(DATA_PATH, 'raw')\n",
    "processed_dir = os.path.join(DATA_PATH, 'processed')\n",
    "labeled_dir = os.path.join(DATA_PATH, 'labeled')\n",
    "\n",
    "os.makedirs(raw_dir, exist_ok=True)\n",
    "os.makedirs(processed_dir, exist_ok=True)\n",
    "os.makedirs(labeled_dir, exist_ok=True)\n",
    "\n",
    "raw_file = os.path.join(raw_dir, 'Messages.json')\n",
    "processed_filename = 'preprocessed_messages'\n",
    "labeled_filename = 'labeled_messages'"
   ]
  },
  {
   "cell_type": "code",
   "execution_count": 4,
   "metadata": {},
   "outputs": [],
   "source": [
    "# # Load channel usernames from a JSON file\n",
    "# channels_filepath = os.path.join(CONFIG_PATH, 'channels.json')\n",
    "# channels = load_json(channels_filepath)\n",
    "# CHANNELS = channels.get('CHANNELS', [])\n",
    "# CHANNELS"
   ]
  },
  {
   "cell_type": "code",
   "execution_count": 5,
   "metadata": {},
   "outputs": [],
   "source": [
    "# # Run only for selected channels\n",
    "# LIMIT = 5\n",
    "# run_fetch_process(channels=CHANNELS[10:11], limit=LIMIT)"
   ]
  },
  {
   "cell_type": "code",
   "execution_count": 16,
   "metadata": {},
   "outputs": [
    {
     "name": "stdout",
     "output_type": "stream",
     "text": [
      "2025-02-03 14:04:50 - [✅ INFO] - Merged JSON saved to ..\\resources\\data\\raw\\Messages.json\n",
      "2025-02-03 14:04:50 - [✅ INFO] - Merged CSV saved to ..\\resources\\data\\raw\\Messages.csv\n"
     ]
    }
   ],
   "source": [
    "# await merge_files(raw_dir)"
   ]
  },
  {
   "cell_type": "code",
   "execution_count": 17,
   "metadata": {},
   "outputs": [
    {
     "name": "stdout",
     "output_type": "stream",
     "text": [
      "2025-02-03 14:04:52 - [✅ INFO] - Loading data from JSON file: ..\\resources\\data\\raw\\Messages.json\n",
      "2025-02-03 14:04:52 - [✅ INFO] - Loaded JSON data from ..\\resources\\data\\raw\\Messages.json using pandas.\n",
      "<class 'pandas.core.frame.DataFrame'>\n",
      "RangeIndex: 46 entries, 0 to 45\n",
      "Data columns (total 8 columns):\n",
      " #   Column       Non-Null Count  Dtype \n",
      "---  ------       --------------  ----- \n",
      " 0   Group ID     46 non-null     int64 \n",
      " 1   Message IDs  46 non-null     object\n",
      " 2   Text         44 non-null     object\n",
      " 3   Message      44 non-null     object\n",
      " 4   Date         46 non-null     object\n",
      " 5   Sender ID    46 non-null     int64 \n",
      " 6   Media Path   46 non-null     object\n",
      " 7   Channel      46 non-null     object\n",
      "dtypes: int64(2), object(6)\n",
      "memory usage: 3.0+ KB\n"
     ]
    }
   ],
   "source": [
    "data = load_data(raw_file)\n",
    "data.info()"
   ]
  },
  {
   "cell_type": "code",
   "execution_count": 18,
   "metadata": {},
   "outputs": [
    {
     "data": {
      "text/plain": [
       "(46, 8)"
      ]
     },
     "execution_count": 18,
     "metadata": {},
     "output_type": "execute_result"
    }
   ],
   "source": [
    "data.shape"
   ]
  },
  {
   "cell_type": "code",
   "execution_count": 30,
   "metadata": {},
   "outputs": [
    {
     "name": "stdout",
     "output_type": "stream",
     "text": [
      "2025-02-03 14:23:03 - [✅ INFO] - Data cleaning completed successfully.\n",
      "2025-02-03 14:23:03 - [✅ INFO] - [{'Group ID': 97, 'Message IDs': [97], 'Text': '⚠️**Notice!\\n**Dear esteemed customers,\\nDue to four-day motorbike movement restrictions, we have limited our services to matchmaking,drug information, and medical consultation only.\\n\\n**N.B. \\n**🔅We will make deliveries for those for whom the medications are urgent.\\n🔅You can book deliveries starting from Monday, February 13, 2023', 'Message': '️Notice! Dear estemed customers, Due to four-day motorbike movement restrictions, we have limited our services to matchmaking,drug information, and medical consultation only. N.B. We wil make deliveries for those for whom the medications are urgent. You can bok deliveries starting from Monday, February 13, 2023', 'Date': Timestamp('2023-02-10 12:23:06+0000', tz='UTC'), 'Sender ID': -1001627056354, 'Media Path': ['..\\\\resources\\\\media\\\\CheMed123\\\\97.jpg'], 'Channel': 'CheMed123', 'Emojis': 'No Emoji', 'Links': []}, {'Group ID': 96, 'Message IDs': [96], 'Text': 'Mela-One በውስጡ ሆርሞን ያለው ድንገተኛ ወሊድ መቆጣጠርያ ሲሆን ያለመከላከያ የተደረገ የግብረስጋ ግንኙነት ሲኖር በ72 ሰዓታት ወስጥ መወሰድ ይኖርበታል።\\n\\n📌ከChe-Med ለማዘዝ፡ \\nበቴሌግራም ግሩፓችን- t.me/CheMeds\\nዌብሳይት- www.chemeds.org\\nይዘዙን።', 'Message': 'Mela-One በውስጡ ሆርሞን ያለው ድንገተኛ ወሊድ መቆጣጠርያ ሲሆን ያለመከላከያ የተደረገ የግብረስጋ ግንኙነት ሲኖር በ72 ሰአታት ወስጥ መወሰድ ይኖርበታል ከChe-Med ለማዘዝ በቴሌግራም ግሩፓችን- t.me/CheMeds ዌብሳይት- ይዘዙን', 'Date': Timestamp('2023-02-02 08:58:52+0000', tz='UTC'), 'Sender ID': -1001627056354, 'Media Path': ['..\\\\resources\\\\media\\\\CheMed123\\\\96.jpg'], 'Channel': 'CheMed123', 'Emojis': 'No Emoji', 'Links': []}, {'Group ID': 95, 'Message IDs': [95], 'Text': '**አዚትሮማይሲን** በሃኪም መድሃኒት ማዘዣ ከሚታዘዙ አንቲባዮቲኮች አንዱ ሲሆን በርከት ያሉ ባክቴርያዎችን ይገላል።\\n\\nበቀን አንዴ ለ3 ቀናት ምግብ ከመብላታችን 1 ሰዓት ቀደም ብሎ ወይንም ከበላን ከ 2 ሰዓት በኋላ መወሰድ ይኖርበታል።\\n\\n📌የሃኪም ማዘዣ ካልዎት \\nበቴሌግራም ግሩፓችን-t.me/CheMeds\\nዌብሳይት- www.chemeds.org\\nይላኩልን።', 'Message': 'አዚትሮማይሲን በሃኪም መድሃኒት ማዘዣ ከሚታዘዙ አንቲባዮቲኮች አንዱ ሲሆን በርከት ያሉ ባክቴርያዎችን ይገላል በቀን አንዴ ለ3 ቀናት ምግብ ከመብላታችን 1 ሰአት ቀደም ብሎ ወይንም ከበላን ከ 2 ሰአት በኋላ መወሰድ ይኖርበታል የሃኪም ማዘዣ ካልዎት በቴሌግራም ግሩፓችን-t.me/CheMeds ዌብሳይት- ይላኩልን', 'Date': Timestamp('2023-02-01 08:59:37+0000', tz='UTC'), 'Sender ID': -1001627056354, 'Media Path': ['..\\\\resources\\\\media\\\\CheMed123\\\\95.jpg'], 'Channel': 'CheMed123', 'Emojis': 'No Emoji', 'Links': []}, {'Group ID': 94, 'Message IDs': [94], 'Text': '**Che-Med Trivia #3\\n\\n**ምግብና መጠጦች አንዳንድ መድሃኒቶች በደንብ እንዳይሰሩ ሊያደርጉ ይችላሉ። በዚህ ሁኔታ እነዚህን መድሃኒቶች ምግብ ከወሰድን ከ1 ሰዓት እስከ 2 ሰዓት ባለ ጊዜ ውስጥ መውሰድ ያስፈልግዎታል።\\n\\nከነዚህም ወስጥ **የእንቅርት መድሃኒቶች፣Omeprazole፣Sildenafil(Viagra)፣Captopril እና Ampicillin** ይጠቀሳሉ።\\n\\nመድሃኒትዎ ከምግብ ጋር ያለውን አወሳሰድ እርግጠኛ ካልሆኑ ሃኪምዎን ወይም ፋርማሲስትዎን ያማክሩ።', 'Message': 'Che-Med Trivia #3 ምግብና መጠጦች አንዳንድ መድሃኒቶች በደንብ እንዳይሰሩ ሊያደርጉ ይችላሉ በዚህ ሁኔታ እነዚህን መድሃኒቶች ምግብ ከወሰድን ከ1 ሰአት እስከ 2 ሰአት ባለ ጊዜ ውስጥ መውሰድ ያስፈልግዎታል ከነዚህም ወስጥ የእንቅርት መድሃኒቶች Omeprazole Sildenafil(Viagra) Captopril እና Ampicilin ይጠቀሳሉ መድሃኒትዎ ከምግብ ጋር ያለውን አወሳሰድ እርግጠኛ ካልሆኑ ሃኪምዎን ወይም ፋርማሲስትዎን ያማክሩ', 'Date': Timestamp('2023-01-31 09:19:53+0000', tz='UTC'), 'Sender ID': -1001627056354, 'Media Path': ['..\\\\resources\\\\media\\\\CheMed123\\\\94.jpg'], 'Channel': 'CheMed123', 'Emojis': 'No Emoji', 'Links': []}, {'Group ID': 93, 'Message IDs': [93], 'Text': '**Che-Med Trivia #2\\n\\n**እንደ Ciprofloxacin, Doxycycline, Levothyroxine, Iron supplement ያሉ መድሃኒቶችን ከወተት እና ከወተት ተዋፅዖዎች ጋር እንዲሁም ከእንቁላል ጋር መውሰድ መድሃኒቶቹ በሰውነታችን የሚፈለገውን ስራ እንዳይሰሩ ያደርጋቸዋል።\\n\\nይህም በወተት ተዋጽኦዎች ውስጥ ያለው ካልሲየም እነዚህ መድሃኒቶች በሰውታችን ወስጥ እንዳይዋህዱ ጣልቃ ስለሚገባ ነው።', 'Message': 'Che-Med Trivia #2 እንደ Ciprofloxacin, Doxycycline, Levothyroxine, Iron suplement ያሉ መድሃኒቶችን ከወተት እና ከወተት ተዋፅኦዎች ጋር እንዲሁም ከእንቁላል ጋር መውሰድ መድሃኒቶቹ በሰውነታችን የሚፈለገውን ስራ እንዳይሰሩ ያደርጋቸዋል ይህም በወተት ተዋጽኦዎች ውስጥ ያለው ካልሲየም እነዚህ መድሃኒቶች በሰውታችን ወስጥ እንዳይዋህዱ ጣልቃ ስለሚገባ ነው', 'Date': Timestamp('2023-01-30 09:45:25+0000', tz='UTC'), 'Sender ID': -1001627056354, 'Media Path': ['..\\\\resources\\\\media\\\\CheMed123\\\\93.jpg'], 'Channel': 'CheMed123', 'Emojis': 'No Emoji', 'Links': []}, {'Group ID': 92, 'Message IDs': [92], 'Text': '**You can get our services at:\\n**Our pharmacist:** ****https://t.me/CheMedAssistant9798****\\n**Our call center: **9798\\n**Our website: **www.chemeds.org**', 'Message': 'You can get our services at: Our pharmacist: Our cal center: 9798 Our website:', 'Date': Timestamp('2023-01-27 07:18:40+0000', tz='UTC'), 'Sender ID': -1001627056354, 'Media Path': ['..\\\\resources\\\\media\\\\CheMed123\\\\92.jpg'], 'Channel': 'CheMed123', 'Emojis': 'No Emoji', 'Links': []}, {'Group ID': 91, 'Message IDs': [91], 'Text': '**Che-Med Trivia #1\\n**The U.S. pharmaceutical industry is the largest in the world, making up about 40% of the worldwide drug development, manufacturing, and revenue generation. And half of the world’s top 10 pharmaceutical companies are in America, including the headquarters for Johnson & Johnson, Pfizer, Merck and Co., AbbVie, Eli Lilly and Co., and Abbott Laboratories. In fact, Johnson & Johnson’s revenue alone reached $82.6 billion in 2020.', 'Message': 'Che-Med Trivia #1 The U.S. pharmaceutical industry is the largest in the world, making up about 40% of the worldwide drug development, manufacturing, and revenue generation. And half of the world’s top 10 pharmaceutical companies are in America, including the headquarters for Johnson & Johnson, Pfizer, Merck and Co., AbVie, Eli Lily and Co., and Abot Laboratories. In fact, Johnson & Johnson’s revenue alone reached $82.6 bilion in 2020.', 'Date': Timestamp('2023-01-26 18:27:53+0000', tz='UTC'), 'Sender ID': -1001627056354, 'Media Path': ['..\\\\resources\\\\media\\\\CheMed123\\\\91.jpg'], 'Channel': 'CheMed123', 'Emojis': 'No Emoji', 'Links': []}, {'Group ID': 90, 'Message IDs': [90], 'Text': '**CVS Daytime & Nighttime Cold and Flu Relief\\n\\n**ለሰሞኑ ጉንፋን ማስታገሻ በአንደኝነት ተመራጭ የሆነውን **CVS Daytime & Nighttime Cold and Flu Relief** Che-Med ይዞላችሁ መጧል።\\n\\nበቁጥር ውስን ስለሆኑ ቀድመው ይዘዙን።\\n\\nለማዘዝ፦\\nOur pharmacist:** ****https://t.me/CheMedAssistant9798****\\n**Our call center: **9798\\n**Our website: www.chemeds.org\\n\\nChe-Med is the best way to find your meds!', 'Message': 'CVS Daytime & Nightime Cold and Flu Relief ለሰሞኑ ጉንፋን ማስታገሻ በአንደኝነት ተመራጭ የሆነውን CVS Daytime & Nightime Cold and Flu Relief Che-Med ይዞላችሁ መጧል በቁጥር ውስን ስለሆኑ ቀድመው ይዘዙን ለማዘዝ Our pharmacist: Our cal center: 9798 Our website: Che-Med is the best way to find your meds!', 'Date': Timestamp('2023-01-23 10:39:20+0000', tz='UTC'), 'Sender ID': -1001627056354, 'Media Path': ['..\\\\resources\\\\media\\\\CheMed123\\\\90.jpg'], 'Channel': 'CheMed123', 'Emojis': 'No Emoji', 'Links': []}, {'Group ID': 89, 'Message IDs': [89], 'Text': '🟠ለናንተ ለደምበኞቻችን ይሆናሉ ያልናቸዉን ምርጥ ቫይታሚንና ሰፕልመንቶች እነሆ!!\\n\\nአጭር የTiktok ቪዲዮአችንን በመመልከት ግንዛቤዎን ይጨምሩ።\\n👇👇👇👇👇👇👇👇👇👇👇👇👇\\nhttps://vm.tiktok.com/ZMYJHUVde/\\n\\nየTiktok ቻናላችንን Like እና Follow ያድርጉ።', 'Message': 'ለናንተ ለደምበኞቻችን ይሆናሉ ያልናቸዉን ምርጥ ቫይታሚንና ሰፕልመንቶች እነሆ! አጭር የTiktok ቪዲዮአችን በመልከት ግንዛቤዎን ይጨምሩ የTiktok ቻናላችን Like እና Folow ያድርጉ', 'Date': Timestamp('2023-01-17 19:10:57+0000', tz='UTC'), 'Sender ID': -1001627056354, 'Media Path': [], 'Channel': 'CheMed123', 'Emojis': 'No Emoji', 'Links': []}, {'Group ID': 88, 'Message IDs': [88], 'Text': '🌞**Sundown Cinnamon!\\nSupports sugar metabolism**.\\n\\nChe-Med **Sundown Cinnamon** **Supplement Product** ይዞላችሁ መጧል።\\n\\nበቁጥር ውስን ስለሆኑ ቀድመው ይዘዙን።\\n\\nለማዘዝ፦\\nOur pharmacist:** ****https://t.me/CheMedAssistant9798****\\n**Our call center: **9798\\n\\n**Che-Med is the best way to find your meds!', 'Message': 'Sundown Cinamon! Suports sugar metabolism. Che-Med Sundown Cinamon Suplement Product ይዞላችሁ መጧል በቁጥር ውስን ስለሆኑ ቀድመው ይዘዙን ለማዘዝ Our pharmacist: Our cal center: 9798 Che-Med is the best way to find your meds!', 'Date': Timestamp('2023-01-17 08:43:12+0000', tz='UTC'), 'Sender ID': -1001627056354, 'Media Path': ['..\\\\resources\\\\media\\\\CheMed123\\\\88.jpg'], 'Channel': 'CheMed123', 'Emojis': 'No Emoji', 'Links': []}, {'Group ID': 864, 'Message IDs': [864], 'Text': 'https://youtu.be/5DBoEm-8kmA?si=LDLuEecNfULJVDzL   👈👈\\n\\nበቀን አንዴ ብቻ የሚባለው የቢዝነስ አማካሪ \\n\\nበ 10,000 ብር ብቻ የተጀመረ ቢዝነስ እስከ ሚሊየኖች ያየገው የፕራግማ ኢንቨስትመንት መስራች መርድ ብስራት \\n\\nብላክ ማርኬት ዋጋ ማነው ሚተምነው ?\\n\\nኢትዮጵያ ውስጥ ቢዝነስ ለመጀመር ጥሩ ሰአት ነው ወይ ??\\n\\n3 ቢዝነስ ስንጀምር የምንሰራው ስህተቶች !\\n\\nአሁኑኑ ይመልከተቱ  👇👇\\n\\nhttps://youtu.be/5DBoEm-8kmA?si=LDLuEecNfULJVDzL', 'Message': 'በቀን አንዴ ብቻ የሚባለው የቢዝነስ አማካሪ በ 10,0 ብር ብቻ የተጀመረ ቢዝነስ እስከ ሚሊየኖች ያየገው የፕራግማ ኢንቨስትመንት መስራች መርድ ብስራት ብላክ ማርኬት ዋጋ ማነው ሚተምነው ? ኢትዮጵያ ውስጥ ቢዝነስ ለመጀመር ጥሩ ሰአት ነው ወይ ? 3 ቢዝነስ ስንጀምር የምንሰራው ስህተቶች ! አሁኑ ይመልከተቱ', 'Date': Timestamp('2023-12-18 17:04:02+0000', tz='UTC'), 'Sender ID': -1001102021238, 'Media Path': [], 'Channel': 'DoctorsET', 'Emojis': 'No Emoji', 'Links': []}, {'Group ID': 863, 'Message IDs': [863], 'Text': 'ዶክተርስ ኢትዮጵያ በ አዲስ አቀራረብ በ ቴሌቪዥን ፕሮግራሙን ለመጀመር ከፋተኛ ዝግጅት በማድረግ ላይ ይገኛል ።\\n\\nዩሃንስ ግርማ ጆኒ ( በ ቲክቶክ ከ 500,000) በላይ ተከታይ ያገኘው ከ አሜሪካ ወደ ኢትዮጵያ \\nገንዳ ውስጥ ከመተኛት እስከ ከፋተኛ ተከፋይ በኢትዮጵያ ( 1 take production ) በመባል የሚታወቀው ዩሃንስ ግርማ ( ጆኒ) \\n\\nከዲፕሬሽን እስከ ታዋቂነትን ያተረፈው ጆኒ \\n\\nአሁኑኑ ይመልከቱ 👇\\n\\nhttps://youtu.be/gwVN5eJQpko?si=xARsSxIEdZtE91GY', 'Message': 'ዶክተርስ ኢትዮጵያ በ አዲስ አቀራረብ በ ቴሌቪዥን ፕሮግራሙን ለመጀመር ከፋተኛ ዝግጅት በማድረግ ላይ ይገኛል ዩሃንስ ግርማ ጆኒ ( በ ቲክቶክ ከ 50,0) በላይ ተከታይ ያገኘው ከ አሜሪካ ወደ ኢትዮጵያ ገንዳ ውስጥ ከመተኛት እስከ ከፋተኛ ተከፋይ በኢትዮጵያ ( 1 take production ) በመባል የሚታወቀው ዩሃንስ ግርማ ( ጆኒ) ከዲፕሬሽን እስከ ታዋቂነትን ያተረፈው ጆኒ አሁኑ ይመልከቱ', 'Date': Timestamp('2023-11-03 16:14:39+0000', tz='UTC'), 'Sender ID': -1001102021238, 'Media Path': [], 'Channel': 'DoctorsET', 'Emojis': 'No Emoji', 'Links': []}, {'Group ID': 862, 'Message IDs': [862], 'Text': 'ሞት በስኳር \\n\\nለልጆቻችን የምናሲዘው ምሳቃ ሳናቀው እድሚያቸውን ይቀንሰው ይሆን \\n\\nየታሸገ ትክክለኛ ጁስ ኢትዮጵያ ውስጥ የለም...!\\n\\nሁሉም ወላጅ ሊያየው የሚገባ\\n\\nየታሸጉ ጁሶች መጠጣት እራስን ለከፍተኛ ጉዳት እስከ ሞት ድረስ ማጋለጥ ነው !\\n\\nለሁሉም ኢኮኖሚ ጤናንም የሚጠብቅ አመጋገብ የቱ ነው??\\n\\nhttps://youtu.be/oHiSRrNF7I0?si=Absgm414YSt_kjNq', 'Message': 'ሞት በስኳር ለልጆቻችን የምናሲዘው ምሳቃ ሳናቀው እድሚያቸውን ይቀንሰው ይሆን የታሸገ ትክለኛ ጁስ ኢትዮጵያ ውስጥ የለም.! ሁሉም ወላጅ ሊያየው የሚገባ የታሸጉ ጁሶች መጠጣት እራስን ለከፍተኛ ጉዳት እስከ ሞት ድረስ ማጋለጥ ነው ! ለሁሉም ኢኮኖሚ ጤናንም የሚጠብቅ አመጋገብ የቱ ነው?', 'Date': Timestamp('2023-10-02 16:37:39+0000', tz='UTC'), 'Sender ID': -1001102021238, 'Media Path': [], 'Channel': 'DoctorsET', 'Emojis': 'No Emoji', 'Links': []}, {'Group ID': 861, 'Message IDs': [861], 'Text': 'ከ HIV የተፈወሰ ሰው አጋጥሟችሁ ያቃል ? ፈውስ እና ህክምና ?\\n\\nሙሉ ቪዲዮውን ተመልክተው ሃሳብ አስተያየቶን ያካፍሉን 👇👇👇👇\\n\\nhttps://youtu.be/tTeErZxIh_Q?si=jKHyfWcC3sfXbC8L', 'Message': 'ከ HIV የተፈወሰ ሰው አጋጥሟችሁ ያቃል ? ፈውስ እና ህክምና ? ሙሉ ቪዲዮውን ተመልክተው ሃሳብ አስተያየቶን ያካፍሉን', 'Date': Timestamp('2023-09-16 07:54:32+0000', tz='UTC'), 'Sender ID': -1001102021238, 'Media Path': [], 'Channel': 'DoctorsET', 'Emojis': 'No Emoji', 'Links': []}, {'Group ID': 860, 'Message IDs': [860], 'Text': 'በቅርብ ጊዜ በሃገራችን ላይ እየተስተዋለ ያለ የተመሳሳይ ፆታ ( Homosexuality ) ግብረ ሰዶም በተለያዩ ቦታዎች ላይ እየታየ ይገኛል\\n\\nይህም አጥብቀን ምንቃወመው ጉዳይ ሲሆን \\n\\n- ይህ ችግር በህምና ይለያል ወይ ?\\n- ቅድመ ምልክት አለው ወይ ?\\n\\nወላጆች ልጆቻችሁን እንዴት መጠበቅ ትችላለቹ ህክምናስ አለው ወይ ??\\n\\nበምንመገበው ምግብ ሊቀይሩየን ይችላሉ ወይ ? \\n\\nአሁኑኑ ገብተው ሙሉ ቪዲዮውን ይመልከቱ !\\n\\nhttps://youtu.be/0k65P5ouw7s?si=qaUgo75bUa3AMQxD', 'Message': 'በቅርብ ጊዜ በሃገራችን ላይ እየተስተዋለ ያለ የተመሳይ ፆታ ( Homosexuality ) ግብረ ሰዶም በተለያዩ ቦታዎች ላይ እየታየ ይገኛል ይህም አጥብቀን ምንቃወመው ጉዳይ ሲሆን - ይህ ችግር በህምና ይለያል ወይ ? - ቅድመ ምልክት አለው ወይ ? ወላጆች ልጆቻችሁን እንዴት መጠበቅ ትችላለቹ ህክምናስ አለው ወይ ? በምንመገበው ምግብ ሊቀይሩየን ይችላሉ ወይ ? አሁኑ ገብተው ሙሉ ቪዲዮውን ይመልከቱ !', 'Date': Timestamp('2023-09-01 16:16:15+0000', tz='UTC'), 'Sender ID': -1001102021238, 'Media Path': [], 'Channel': 'DoctorsET', 'Emojis': 'No Emoji', 'Links': []}, {'Group ID': 859, 'Message IDs': [859], 'Text': '👇👇👇👇👇👇 https://youtu.be/-AR1KO2DbFw?si=47cXLZtlmhx1Nlqc  \\n**\\nዶክተርስ ኢትዮጽያ በአዲስ ፕሮገራም ጀመረ**\\n\\nማረጥ  (**ሜኖፖዝ ) ጋር ተያይዞ የሚመጣ ሴቶች ላይ የሚከሰት የጤና ችግሮች**\\n\\n**ሴቶች ላይ የሚከሰት የ ግብረስጋ ግንኙነት ስሜት መቀነስ ?**\\n\\n\\n**የሴቶች የወር አበባ ግዜ እና ሌሎችም ጉዳዮች ተነስተዋል አሁኑኑ ይመልከቱ !!\\n**\\n\\n**ከ ቴሌቪዥን ፕሮግራሞቻችን በተጨማሪ አዲስ በልዩ አቀራረብ ይበልጥ የናንተን የተመልካች ጥያቄ ለመመለስ **\\n\\nይህን የመሰለ ፕሮግራም ይዘን መተናል \\n\\n\\nየጤና ጥያቄዎን ለመላክ @doctorsEt \\n\\n\\nhttps://youtu.be/-AR1KO2DbFw?si=47cXLZtlmhx1Nlqc', 'Message': 'ዶክተርስ ኢትዮጽያ በአዲስ ፕሮገራም ጀመረ ማረጥ (ሜኖፖዝ ) ጋር ተያይዞ የሚመጣ ሴቶች ላይ የሚከሰት የጤና ችግሮች ሴቶች ላይ የሚከሰት የ ግብረስጋ ግንኙነት ስሜት መቀነስ ? የሴቶች የወር አበባ ግዜ እና ሌሎችም ጉዳዮች ተነስተዋል አሁኑ ይመልከቱ ! ከ ቴሌቪዥን ፕሮግራሞቻችን በተጨማሪ አዲስ በልዩ አቀራረብ ይበልጥ የናንተን የተመልካች ጥያቄ ለመለስ ይህን የመሰለ ፕሮግራም ይዘን መተናል የጤና ጥያቄዎን ለመላክ @doctorsEt', 'Date': Timestamp('2023-08-29 17:20:05+0000', tz='UTC'), 'Sender ID': -1001102021238, 'Media Path': [], 'Channel': 'DoctorsET', 'Emojis': 'No Emoji', 'Links': []}, {'Group ID': 848, 'Message IDs': [848], 'Text': 'ክረምቱን ስፖርት መስራት አስበው ጂም ለመግባት ካልቻሉ ባሉበት ቦታ ሆነው\\n\\nእነዚህን እንቅስቃሴዎች በማድረግ በ አጭር ግዜ ውስጥ ለውጥ ማምጣት ይችላሉ \\n\\nእቤትዎ ሆነው ጠዎት ወይንም ማታ ላይ በ 5 ደቃቃ ውስጥ ብቻ \\n\\n- የጎን ቦርጭ(ስብ) ለማጥፋት \\n- ቀንዎን በንቃት ለመጀመር \\n\\nእነዚህን እንቅስቃሴዎች ያድርጉ \\nለሁሉም እድሜ ክልል የሚሆን እንቅስቃሴ ስለሆነ ከ ቤተሰቦ ጋር መስራት ይችላሉ !!\\n\\nሊንኩን በመጫን ይመልከቱ / ዶክተርስ ኢትዮጵያ \\n👇👇👇👇👇\\nhttps://youtu.be/0uiTzjEbh90', 'Message': 'ክረምቱን ስፖርት መስራት አስበው ጂም ለመግባት ካልቻሉ ባሉበት ቦታ ሆነው እነዚህን እንቅስቃሴዎች በማድረግ በ አጭር ግዜ ውስጥ ለውጥ ማምጣት ይችላሉ እቤትዎ ሆነው ጠዎት ወይንም ማታ ላይ በ 5 ደቃ ውስጥ ብቻ - የጎን ቦርጭ(ስብ) ለማጥፋት - ቀንዎን በንቃት ለመጀመር እነዚህን እንቅስቃሴዎች ያድርጉ ለሁሉም እድሜ ክል የሚሆን እንቅስቃሴ ስለሆነ ከ ቤተሰቦ ጋር መስራት ይችላሉ ! ሊንኩን በመጫን ይመልከቱ / ዶክተርስ ኢትዮጵያ', 'Date': Timestamp('2022-08-02 17:42:08+0000', tz='UTC'), 'Sender ID': -1001102021238, 'Media Path': [], 'Channel': 'DoctorsET', 'Emojis': 'No Emoji', 'Links': []}, {'Group ID': 847, 'Message IDs': [847], 'Text': 'ስፖርት የመስራት ሱስ ይኖር ይሆን?\\n\\nበአሁኑ ወቅት ብዙ የስፖርት መስሪያ ቦታዎች ተጨናንቀው ይታያል\\n\\nስፖርት መስራት ለጤና ጠቃሚ ቢሆንም እንዳንድ ግዜ ግን ከዛ በላይም አልፎ ስፖርት ካልሰራው ዲፕሬሽን ውስጥ ገባለው / ሰውነቴ ይበላሻል የሚሉ ሰዎችም አሉ!\\n\\nሱስ ማለት ራስን ለ ሆነ ነገር ተገዢ ማድረግ ነው! \\n\\n   ስለዚህ ስፖርት መስራት እውነት ሱስ ይሆን?\\n\\n👇👇👇 ሙሉ ቪዲዮውን በ ዮቲውብ ይመልከቱ \\n\\n ስፖርት ቤት (ጂም) ለሚያበዙ ሁሉ ሼር ያድርጉ!\\n👇👇👇\\nhttps://youtu.be/WPlRuRtQXN8', 'Message': 'ስፖርት የመስራት ሱስ ይኖር ይሆን? በአሁኑ ወቅት ብዙ የስፖርት መስሪያ ቦታዎች ተጨናንቀው ይታያል ስፖርት መስራት ለጤና ጠቃሚ ቢሆንም እንዳንድ ግዜ ግን ከዛ በላይም አልፎ ስፖርት ካልሰራው ዲፕሬሽን ውስጥ ገባለው / ሰውነቴ ይበላሻል የሚሉ ሰዎችም አሉ! ሱስ ማለት ራስን ለ ሆነ ነገር ተገዢ ማድረግ ነው! ስለዚህ ስፖርት መስራት እውነት ሱስ ይሆን? ሙሉ ቪዲዮውን በ ዮቲውብ ይመልከቱ ስፖርት ቤት (ጂም) ለሚያበዙ ሁሉ ሼር ያድርጉ!', 'Date': Timestamp('2022-06-12 17:15:47+0000', tz='UTC'), 'Sender ID': -1001102021238, 'Media Path': [], 'Channel': 'DoctorsET', 'Emojis': 'No Emoji', 'Links': []}, {'Group ID': 846, 'Message IDs': [846], 'Text': 'ድንገተኛ አደጋ / የአጥንት ስብራት\\n\\nአያርገውና ድንገተኛ የሆነ አደጋ ቢደርስቦ ምን ማድረግ እንዳለቦ ያቃሉ?\\n\\nበሃገራችን የመኪና አደጋ በ ከፍተኛ ደረጃ አየጨመረ እና የብዙ ሰዎችን ሂወት እየቀጠፈም ይገኛል ።\\n\\nበሃገራችን ያለውም ወቅታዊ ሁኔታም ጦርነቶች ብዙ ሰዎችን ለ ድንገተኛ የሆነ አደጋዎች : ስብራቶች ያጋልጣል።\\n\\nዶ/ር ቃልቂዳን (አጥንት ስፔሻሊስት ሃኪም) ስለ ድንገተኛ አደጋ እና ስብራቶች አብራርቶልናል\\n\\nእርሶም ይህ ችግር ቢደርስቦ ማድረግ ያለቦትን ነገር ቀድመው ይወቁ \\n\\n**ዶክተርስ ኢትዮጵያ በ አዳዲስ ፕሮግራሞችና የናንተን ጥያቄዎች በሶሻል ሚዲያ መልስ የሚያገኙበትን መንገድ እያስተካከልን ሲሆን ከ ትንሽ የ እረፍት ግዜያት በኋላ በ ቴሌቪዥን ፕሮግማችን በ ፋና ቴሌቪዥን ያገኙናል**\\n\\nከታች ያለውን በመጫን ይመልከቱ!\\n👇👇👇👇👇👇👇\\nhttps://youtu.be/QI-8oqW80uI', 'Message': 'ድንገተኛ አደጋ / የአጥንት ስብራት አያርገውና ድንገተኛ የሆነ አደጋ ቢደርስቦ ምን ማድረግ እንዳለቦ ያቃሉ? በሃገራችን የመኪና አደጋ በ ከፍተኛ ደረጃ አየጨመረ እና የብዙ ሰዎችን ሂወት እየቀጠፈም ይገኛል በሃገራችን ያለውም ወቅታዊ ሁኔታም ጦርነቶች ብዙ ሰዎችን ለ ድንገተኛ የሆነ አደጋዎች : ስብራቶች ያጋልጣል ዶ/ር ቃልቂዳን (አጥንት ስፔሻሊስት ሃኪም) ስለ ድንገተኛ አደጋ እና ስብራቶች አብራርቶልናል እርሶም ይህ ችግር ቢደርስቦ ማድረግ ያለቦትን ነገር ቀድመው ይወቁ ዶክተርስ ኢትዮጵያ በ አዳዲስ ፕሮግራሞችና የናንተን ጥያቄዎች በሶሻል ሚዲያ መልስ የሚያገኙበትን መንገድ እያስተካከልን ሲሆን ከ ትንሽ የ እረፍት ግዜያት በኋላ በ ቴሌቪዥን ፕሮግማችን በ ፋና ቴሌቪዥን ያገኙናል ከታች ያለውን በመጫን ይመልከቱ!', 'Date': Timestamp('2022-05-31 17:51:13+0000', tz='UTC'), 'Sender ID': -1001102021238, 'Media Path': [], 'Channel': 'DoctorsET', 'Emojis': 'No Emoji', 'Links': []}, {'Group ID': 845, 'Message IDs': [845], 'Text': 'ከትንሽ ግዚያት በፊት ስፖርት መስራት እንደ ቅንጦት ይታይ ነበር አሁን ላይ ግን በ ስፖርት መስራያ ቦታዎች ላይ ብዙዎች ሲሰሩ ይታያል\\n\\nይህንንም ተከትሎ ስፖርት ማወቅ ያለብን በጣም አስፈላጊ ነገር አለ!\\n\\nብዙ ሰው አንድ አመት ያህል ሰርቻለው ለውጥ ምንም የለኝም ! ስፖርት ጥቅም የለውም ይላል\\n\\nእኛ ምን መስራት እንዳለቦት ሚስጥሩን እንንገሮት!\\n  ከዚ በኋላ ጊዜዎን ሳያባክኑ በአጭር ግዜ ውስጥ \\nለውጦን ያያሉ።\\n\\nበዚህ ዮቲውብ ቪዲዮ ላይ \\n\\nምን መስራት እንዳለቦት ለ ጀማሪ እንዲሁም በመስራት ላይ ላላቹ \\n\\nአጭር ቪዲዮ ይመልከቱ\\n👇👇👇👇👇👇\\nhttps://youtu.be/_IEWt07bECg', 'Message': 'ከትንሽ ግዚያት በፊት ስፖርት መስራት እንደ ቅንጦት ይታይ ነበር አሁን ላይ ግን በ ስፖርት መስራያ ቦታዎች ላይ ብዙዎች ሲሰሩ ይታያል ይህንም ተከትሎ ስፖርት ማወቅ ያለብን በጣም አስፈላጊ ነገር አለ! ብዙ ሰው አንድ አመት ያህል ሰርቻለው ለውጥ ምንም የለኝም ! ስፖርት ጥቅም የለውም ይላል እኛ ምን መስራት እንዳለቦት ሚስጥሩን እንገሮት! ከዚ በኋላ ጊዜዎን ሳያባክኑ በአጭር ግዜ ውስጥ ለውጦን ያሉ በዚህ ዮቲውብ ቪዲዮ ላይ ምን መስራት እንዳለቦት ለ ጀማሪ እንዲሁም በመስራት ላይ ላቹ አጭር ቪዲዮ ይመልከቱ', 'Date': Timestamp('2022-05-20 18:04:53+0000', tz='UTC'), 'Sender ID': -1001102021238, 'Media Path': [], 'Channel': 'DoctorsET', 'Emojis': 'No Emoji', 'Links': []}, {'Group ID': 2610, 'Message IDs': [2610], 'Text': '\\xa0#💥CPD_አሁን_ይመዝገቡ #የሞያ_ፈቃድ_ለማሳደስ_CPD_ይመዝገቡ\\n#Title=Antimicrobial Drug Resistance Prevention Training \\n🔶15CEU\\n👉 ከ ጥር 28 ጀምሮ ይሰጣል!\\n**ለሁሉም ጤና ባለሞያዎች በሁሉም ክልሎችና ከተሞች ላላችሁ።**\\n--------------------------------------------\\n📱0965410000(Ekram)\\n📱0965412222(Dr. Shalom)\\n📱0941404444(Daye)\\n📱0942404444(Tenbit)\\n📱0968670067(Selam)\\n📳0462124400\\n\\xa0Ethio-American CPD center & Health Consultancy.\\n🏃We Are Committed To Excellence In Medical Trainings ❗\\nFor more info join our telegram channel\\xa0\\xa0\\xa0\\xa0\\xa0\\xa0\\xa0\\xa0\\xa0\\xa0\\xa0\\xa0\\xa0\\xa0\\xa0 t.me/eahci', 'Message': '#CPD_አሁን_ይመዝገቡ #የሞያ_ፈቃድ_ለማሳደስ_CPD_ይመዝገቡ #Title=Antimicrobial Drug Resistance Prevention Training 15CEU ከ ጥር 28 ጀምሮ ይሰጣል! ለሁሉም ጤና ባለሞያዎች በሁሉም ክልሎችና ከተሞች ላችሁ - 0965410(Ekram) 0965412(Dr. Shalom) 0941404(Daye) 0942404(Tenbit) 096867067(Selam) 04621240 Ethio-American CPD center & Health Consultancy. We Are Comited To Excelence In Medical Trainings For more info join our telegram chanel t.me/eahci', 'Date': Timestamp('2025-02-03 09:34:16+0000', tz='UTC'), 'Sender ID': -1001432982009, 'Media Path': ['..\\\\resources\\\\media\\\\EAHCI\\\\2610.jpg'], 'Channel': 'EAHCI', 'Emojis': 'No Emoji', 'Links': []}, {'Group ID': 2609, 'Message IDs': [2609], 'Text': '#የግርዛት_ስልጠና_Addis_Ababa \\n#Circumcision_Skill_Training_@ADISSABABA (Adult & Neonates with Ring ) \\xa0በቀለበትና ያለቀለበት ➥\\xa0 \\xa0ከ የካቲት 2 ጀምሮ ይሰጣል። (15CEU CPD & Skill)\\n🔶🔶🔶🔶🔶🔶🔶🔶🔶🔶\\n👉አዘጋጅ-Ethio-American\\xa0 Health Consultancy & CPD Center.\\n👉ሰልጣኞች-GP,HO,Nurse,Midwife\\n\\n\\xa0 📞0965412222 Dr shalom\\n  📞Daye 0941404444\\n\\xa0 📞Ekram(A.A) 0965410000\\n 📞Selam(A.A) 0968670067\\n\\xa0\\xa0📞Tinbit(A.A)\\xa00942404444\\n\\xa0\\xa0📞Office\\xa00941404444\\n\\n👉ማስታወሻ :-GP,HO,Nurse,Midwif ቁጥር 12 ብቻ መሆኑን እየገለፅን ቀድመው\\xa0 የተመዘገቡ ብቻ የሚስተናገዱ መሆኑን እናሳውቃለን።\\n👉Circumcision is our Patented & Accredited Course !\\n:-t.me/eahci', 'Message': '#የግርዛት_ስልጠና_Adis_Ababa #Circumcision_Skil_Training_@ADISABABA (Adult & Neonates with Ring ) በቀለበትና ያለቀለበት ➥ ከ የካቲት 2 ጀምሮ ይሰጣል (15CEU CPD & Skil) አዘጋጅ-Ethio-American Health Consultancy & CPD Center. ሰልጣኞች-GP,HO,Nurse,Midwife 0965412 Dr shalom Daye 0941404 Ekram(A.A) 0965410 Selam(A.A) 096867067 Tinbit(A.A) 0942404 Ofice 0941404 ማስታወሻ :-GP,HO,Nurse,Midwif ቁጥር 12 ብቻ መሆኑን እየገለፅን ቀድመው የተመዘገቡ ብቻ የሚስተናገዱ መሆኑን እናሳውቃለን Circumcision is our Patented & Acredited Course ! :-t.me/eahci', 'Date': Timestamp('2025-02-01 07:37:50+0000', tz='UTC'), 'Sender ID': -1001432982009, 'Media Path': ['..\\\\resources\\\\media\\\\EAHCI\\\\2609.jpg'], 'Channel': 'EAHCI', 'Emojis': 'No Emoji', 'Links': []}, {'Group ID': 2608, 'Message IDs': [2608], 'Text': '#OBGYN_Ultrasound_Training@Hawassa!\\n**#ነገ**_**ይጀምራል****(ጥር_25**)\\n---------------------------------------------\\n\\n✔አዘጋጅ-Ethio-American CPD center in collaboration with selected hospitals .\\n💥Place of Trainings-Selected Hospitals \\n\\nCall & Register now\\n\\xa0\\xa0 ☎️0941404444 Daye\\n\\xa0 \\xa0☎️0965412222 Dr.Shalom\\n\\xa0\\xa0 ☎️0942404444 Tenbit\\n\\xa0\\xa0 ☎️0968670067\\xa0 Selam\\n\\xa0\\xa0 ☎️0965410000\\xa0 Ekram(A.A)\\n\\xa0\\n#N.B_We only have a few spots left!! #OB_Ultrasound_Is_Our_Accredited_Course \\n🏃For more info .follow us on telegram :-\\nt.me/eahci', 'Message': '#OBGYN_Ultrasound_Training@Hawasa! #ነገ_ይጀምራል(ጥር_25) - አዘጋጅ-Ethio-American CPD center in colaboration with selected hospitals . Place of Trainings-Selected Hospitals Cal & Register now ️0941404 Daye ️0965412 Dr.Shalom ️0942404 Tenbit ️096867067 Selam ️0965410 Ekram(A.A) #N.B_We only have a few spots left! #OB_Ultrasound_Is_Our_Acredited_Course For more info .folow us on telegram :- t.me/eahci', 'Date': Timestamp('2025-02-01 07:18:21+0000', tz='UTC'), 'Sender ID': -1001432982009, 'Media Path': ['..\\\\resources\\\\media\\\\EAHCI\\\\2608.jpg'], 'Channel': 'EAHCI', 'Emojis': 'No Emoji', 'Links': []}, {'Group ID': 2607, 'Message IDs': [2607], 'Text': '#**Adult_ECHO_Training****@****#ADISS_ABABA_By_Cardiologist_for_Physicians**** \\n** We_have_Only_few_trainee_Position\\n👉Lecture will start on February 3\\n👉ጥር 26 ይጀምራል!\\n#Hands_on training !\\n#Register_Soon_And_Get_Certified !!\\n📞0965412222 Dr.Shalom\\n📞0941404444\\n\\n#Hosted_By: Ethio-American Medical Training Center\\nT.me/eahci', 'Message': '#Adult_ECHO_Training@#ADIS_ABABA_By_Cardiologist_for_Physicians We_have_Only_few_traine_Position Lecture wil start on February 3 ጥር 26 ይጀምራል! #Hands_on training ! #Register_Son_And_Get_Certified ! 0965412 Dr.Shalom 0941404 #Hosted_By: Ethio-American Medical Training Center T.me/eahci', 'Date': Timestamp('2025-01-31 13:45:58+0000', tz='UTC'), 'Sender ID': -1001432982009, 'Media Path': ['..\\\\resources\\\\media\\\\EAHCI\\\\2607.jpg'], 'Channel': 'EAHCI', 'Emojis': 'No Emoji', 'Links': []}, {'Group ID': 2606, 'Message IDs': [2606], 'Text': '#OBGYN_Ultrasound_Training@HOSSANA!\\n#የካቲት 2 ይጀምራል!\\n---------------------------------------------\\n\\n✔አዘጋጅ-Ethio-American CPD center in collaboration with selected hospitals .\\n💥Place of Trainings-Selected Hospitals \\n\\nCall & Register now\\n\\xa0\\xa0 ☎️0941404444 Daye\\n\\xa0 \\xa0☎️0965412222 Dr.Shalom\\n\\xa0\\xa0 ☎️0942404444 Tenbit\\n\\xa0\\xa0 ☎️0968670067\\xa0 Selam\\n\\xa0\\xa0 ☎️0965410000\\xa0 Ekram(A.A)\\n\\xa0\\n#N.B_We only have a few spots left!! #OB_Ultrasound_Is_Our_Accredited_Course \\n🏃For more info .follow us on telegram :-\\nt.me/eahci', 'Message': '#OBGYN_Ultrasound_Training@HOSANA! #የካቲት 2 ይጀምራል! - አዘጋጅ-Ethio-American CPD center in colaboration with selected hospitals . Place of Trainings-Selected Hospitals Cal & Register now ️0941404 Daye ️0965412 Dr.Shalom ️0942404 Tenbit ️096867067 Selam ️0965410 Ekram(A.A) #N.B_We only have a few spots left! #OB_Ultrasound_Is_Our_Acredited_Course For more info .folow us on telegram :- t.me/eahci', 'Date': Timestamp('2025-01-31 12:31:56+0000', tz='UTC'), 'Sender ID': -1001432982009, 'Media Path': ['..\\\\resources\\\\media\\\\EAHCI\\\\2606.jpg'], 'Channel': 'EAHCI', 'Emojis': 'No Emoji', 'Links': []}, {'Group ID': 2605, 'Message IDs': [2605], 'Text': None, 'Message': 'No Mesage', 'Date': Timestamp('2025-01-31 11:58:34+0000', tz='UTC'), 'Sender ID': -1001432982009, 'Media Path': [], 'Channel': 'EAHCI', 'Emojis': 'No Emoji', 'Links': []}, {'Group ID': 2604, 'Message IDs': [2604], 'Text': '#OBGYN_Ultrasound_Training@ADAMA!\\n#የካቲት 2 ይጀምራል!\\n---------------------------------------------\\n\\n✔አዘጋጅ-Ethio-American CPD center in collaboration with selected hospitals .\\n💥Place of Trainings-Selected Hospitals \\n\\nCall & Register now\\n\\xa0\\xa0 ☎️0941404444 Daye\\n\\xa0 \\xa0☎️0965412222 Dr.Shalom\\n\\xa0\\xa0 ☎️0942404444 Tenbit\\n\\xa0\\xa0 ☎️0968670067\\xa0 Selam\\n\\xa0\\xa0 ☎️0965410000\\xa0 Ekram(A.A)\\n\\xa0\\n#N.B_We only have a few spots left!! #OB_Ultrasound_Is_Our_Accredited_Course \\n🏃For more info .follow us on telegram :-\\nt.me/eahci', 'Message': '#OBGYN_Ultrasound_Training@ADAMA! #የካቲት 2 ይጀምራል! - አዘጋጅ-Ethio-American CPD center in colaboration with selected hospitals . Place of Trainings-Selected Hospitals Cal & Register now ️0941404 Daye ️0965412 Dr.Shalom ️0942404 Tenbit ️096867067 Selam ️0965410 Ekram(A.A) #N.B_We only have a few spots left! #OB_Ultrasound_Is_Our_Acredited_Course For more info .folow us on telegram :- t.me/eahci', 'Date': Timestamp('2025-01-31 09:01:14+0000', tz='UTC'), 'Sender ID': -1001432982009, 'Media Path': ['..\\\\resources\\\\media\\\\EAHCI\\\\2604.jpg'], 'Channel': 'EAHCI', 'Emojis': 'No Emoji', 'Links': []}, {'Group ID': 2603, 'Message IDs': [2603], 'Text': '#**የግርዛት_ስልጠና_ወላይታ_ሶዶ****\\n****#Circumcision_Skill_Training_@WOLAYITA_SODO** (Adult & Neonates with Ring ) \\xa0በቀለበትና ያለቀለበት ➥\\xa0 **\\xa0ከ የካቲት 2 ጀምሮ ይሰጣል።** (15CEU CPD & Skill)\\n🔶🔶🔶🔶🔶🔶🔶🔶🔶🔶\\n👉የግርዛት ክህሎት ስልጠና (በቀለበትና ያለቀለበት - Ring /Without Ring-cut ) ስልጠና \\n👉አዘጋጅ-Ethio-American\\xa0 Health Consultancy & CPD Center.\\n👉ሰልጣኞች-GP,HO,Nurse,Midwife\\n\\n\\xa0 📞0965412222 Dr shalom\\n  📞Daye 0941404444\\n\\xa0 📞Ekram 0965410000\\n 📞Selam(A.A) 0968670067\\n\\xa0\\xa0📞Tinbit(A.A)\\xa00942404444\\n\\xa0\\xa0📞Office\\xa00941404444\\n\\n👉ማስታወሻ :-GP,HO,Nurse,Midwif ቁጥር 12 ብቻ መሆኑን እየገለፅን ቀድመው\\xa0 የተመዘገቡ ብቻ የሚስተናገዱ መሆኑን እናሳውቃለን።\\n👉Circumcision is our Patented & Accredited Course !\\n:-t.me/eahci', 'Message': '#የግርዛት_ስልጠና_ወላይታ_ሶዶ #Circumcision_Skil_Training_@WOLAYITA_SODO (Adult & Neonates with Ring ) በቀለበትና ያለቀለበት ➥ ከ የካቲት 2 ጀምሮ ይሰጣል (15CEU CPD & Skil) የግርዛት ክህሎት ስልጠና (በቀለበትና ያለቀለበት - Ring /Without Ring-cut ) ስልጠና አዘጋጅ-Ethio-American Health Consultancy & CPD Center. ሰልጣኞች-GP,HO,Nurse,Midwife 0965412 Dr shalom Daye 0941404 Ekram 0965410 Selam(A.A) 096867067 Tinbit(A.A) 0942404 Ofice 0941404 ማስታወሻ :-GP,HO,Nurse,Midwif ቁጥር 12 ብቻ መሆኑን እየገለፅን ቀድመው የተመዘገቡ ብቻ የሚስተናገዱ መሆኑን እናሳውቃለን Circumcision is our Patented & Acredited Course ! :-t.me/eahci', 'Date': Timestamp('2025-01-30 12:42:18+0000', tz='UTC'), 'Sender ID': -1001432982009, 'Media Path': ['..\\\\resources\\\\media\\\\EAHCI\\\\2603.jpg'], 'Channel': 'EAHCI', 'Emojis': 'No Emoji', 'Links': []}, {'Group ID': 2602, 'Message IDs': [2602], 'Text': '#**ENGLISH_LANGUAGE_TRAINING**\\n👉Grammar\\n👉Vocabulary \\n👉Pronunciation \\n Strarting from #March_3_የካቲት_24 ይጀምራል!\\n#**HAWASSA**📌\\n\\nContact us and register now!\\n📞0965412222\\n📞0941404444\\n\\n**ETHIO-AMERICAN TRAINING CENTER!**', 'Message': '#ENGLISH_LANGUAGE_TRAINING Gramar Vocabulary Pronunciation Strarting from #March_3_የካቲት_24 ይጀምራል! #HAWASA Contact us and register now! 0965412 0941404 ETHIO-AMERICAN TRAINING CENTER!', 'Date': Timestamp('2025-01-30 12:17:14+0000', tz='UTC'), 'Sender ID': -1001432982009, 'Media Path': ['..\\\\resources\\\\media\\\\EAHCI\\\\2602.jpg'], 'Channel': 'EAHCI', 'Emojis': 'No Emoji', 'Links': []}, {'Group ID': 2601, 'Message IDs': [2601], 'Text': '**Congratulations to our beloved trainees on completing the Basic Obstetrics Ultrasound Training given at Gandhi Hospital.**🎉🎊', 'Message': 'Congratulations to our beloved traines on completing the Basic Obstetrics Ultrasound Training given at Gandhi Hospital.', 'Date': Timestamp('2025-01-30 09:57:21+0000', tz='UTC'), 'Sender ID': -1001432982009, 'Media Path': ['..\\\\resources\\\\media\\\\EAHCI\\\\2601.jpg'], 'Channel': 'EAHCI', 'Emojis': 'No Emoji', 'Links': []}, {'Group ID': 15271, 'Message IDs': [15271], 'Text': 'PEDIASURE 3+ 1.6KG\\nPrice 6000 birr \\nTelegram @Lobeliacosmetics\\nMsg👉 Lobelia pharmacy and cosmetics \\n☎️ call 0911562031/0911587703\\nAdress:- Infront of Bole Medhanialem high school ALEMNESH PLAZA GROUND FLOOR \\nOpen Monday - Monday from 8am until midnight ከሰኞ - እስከ ሰኞ\\xa0 ከጧቱ 2:00 ስዓት - እስከ ምሽቱ 6:00 ሰዓት\\n🏍🏍🏍 የትራንስፖርት አማራጭ ከ70 - 500 ብር\\nFor delivery option fees are from 70 birr - 500 birr', 'Message': 'PEDIASURE 3+ 1.6KG Price 60 bir Telegram @Lobeliacosmetics Msg Lobelia pharmacy and cosmetics ️ cal 091562031/09158703 Adres:- Infront of Bole Medhanialem high schol ALEMNESH PLAZA GROUND FLOR Open Monday - Monday from 8am until midnight ከሰኞ - እስከ ሰኞ ከጧቱ 2:0 ስአት - እስከ ምሽቱ 6:0 ሰአት የትራንስፖርት አማራጭ ከ70 - 50 ብር For delivery option fes are from 70 bir - 50 bir', 'Date': Timestamp('2025-02-03 14:57:15+0000', tz='UTC'), 'Sender ID': -1001666492664, 'Media Path': ['..\\\\resources\\\\media\\\\lobelia4cosmetics\\\\15271.jpg'], 'Channel': 'lobelia4cosmetics', 'Emojis': 'No Emoji', 'Links': []}, {'Group ID': 15270, 'Message IDs': [15270], 'Text': 'APTAMIL NO.3\\nPrice 4000 birr \\nTelegram @Lobeliacosmetics\\nMsg👉 Lobelia pharmacy and cosmetics \\n☎️ call 0911562031/0911587703\\nAdress:- Infront of Bole Medhanialem high school ALEMNESH PLAZA GROUND FLOOR \\nOpen Monday - Monday from 8am until midnight ከሰኞ - እስከ ሰኞ\\xa0 ከጧቱ 2:00 ስዓት - እስከ ምሽቱ 6:00 ሰዓት\\n🏍🏍🏍 የትራንስፖርት አማራጭ ከ70 - 500 ብር\\nFor delivery option fees are from 70 birr - 500 birr', 'Message': 'APTAMIL NO.3 Price 40 bir Telegram @Lobeliacosmetics Msg Lobelia pharmacy and cosmetics ️ cal 091562031/09158703 Adres:- Infront of Bole Medhanialem high schol ALEMNESH PLAZA GROUND FLOR Open Monday - Monday from 8am until midnight ከሰኞ - እስከ ሰኞ ከጧቱ 2:0 ስአት - እስከ ምሽቱ 6:0 ሰአት የትራንስፖርት አማራጭ ከ70 - 50 ብር For delivery option fes are from 70 bir - 50 bir', 'Date': Timestamp('2025-02-03 13:49:39+0000', tz='UTC'), 'Sender ID': -1001666492664, 'Media Path': ['..\\\\resources\\\\media\\\\lobelia4cosmetics\\\\15270.jpg'], 'Channel': 'lobelia4cosmetics', 'Emojis': 'No Emoji', 'Links': []}, {'Group ID': 15269, 'Message IDs': [15269], 'Text': 'APTAMIL NO.2\\nPrice 4000 birr \\nTelegram @Lobeliacosmetics\\nMsg👉 Lobelia pharmacy and cosmetics \\n☎️ call 0911562031/0911587703\\nAdress:- Infront of Bole Medhanialem high school ALEMNESH PLAZA GROUND FLOOR \\nOpen Monday - Monday from 8am until midnight ከሰኞ - እስከ ሰኞ\\xa0 ከጧቱ 2:00 ስዓት - እስከ ምሽቱ 6:00 ሰዓት\\n🏍🏍🏍 የትራንስፖርት አማራጭ ከ70 - 500 ብር\\nFor delivery option fees are from 70 birr - 500 birr', 'Message': 'APTAMIL NO.2 Price 40 bir Telegram @Lobeliacosmetics Msg Lobelia pharmacy and cosmetics ️ cal 091562031/09158703 Adres:- Infront of Bole Medhanialem high schol ALEMNESH PLAZA GROUND FLOR Open Monday - Monday from 8am until midnight ከሰኞ - እስከ ሰኞ ከጧቱ 2:0 ስአት - እስከ ምሽቱ 6:0 ሰአት የትራንስፖርት አማራጭ ከ70 - 50 ብር For delivery option fes are from 70 bir - 50 bir', 'Date': Timestamp('2025-02-03 13:49:39+0000', tz='UTC'), 'Sender ID': -1001666492664, 'Media Path': ['..\\\\resources\\\\media\\\\lobelia4cosmetics\\\\15269.jpg'], 'Channel': 'lobelia4cosmetics', 'Emojis': 'No Emoji', 'Links': []}, {'Group ID': 15268, 'Message IDs': [15268], 'Text': 'MULTI FOR HIM 90 TABLETS \\nPrice 5000 birr \\nTelegram @Lobeliacosmetics\\nMsg👉 Lobelia pharmacy and cosmetics \\n☎️ call 0911562031/0911587703\\nAdress:- Infront of Bole Medhanialem high school ALEMNESH PLAZA GROUND FLOOR \\nOpen Monday - Monday from 8am until midnight ከሰኞ - እስከ ሰኞ\\xa0 ከጧቱ 2:00 ስዓት - እስከ ምሽቱ 6:00 ሰዓት\\n🏍🏍🏍 የትራንስፖርት አማራጭ ከ70 - 500 ብር\\nFor delivery option fees are from 70 birr - 500 birr', 'Message': 'MULTI FOR HIM 90 TABLETS Price 50 bir Telegram @Lobeliacosmetics Msg Lobelia pharmacy and cosmetics ️ cal 091562031/09158703 Adres:- Infront of Bole Medhanialem high schol ALEMNESH PLAZA GROUND FLOR Open Monday - Monday from 8am until midnight ከሰኞ - እስከ ሰኞ ከጧቱ 2:0 ስአት - እስከ ምሽቱ 6:0 ሰአት የትራንስፖርት አማራጭ ከ70 - 50 ብር For delivery option fes are from 70 bir - 50 bir', 'Date': Timestamp('2025-02-03 13:35:38+0000', tz='UTC'), 'Sender ID': -1001666492664, 'Media Path': ['..\\\\resources\\\\media\\\\lobelia4cosmetics\\\\15268.jpg'], 'Channel': 'lobelia4cosmetics', 'Emojis': 'No Emoji', 'Links': []}, {'Group ID': 15267, 'Message IDs': [15267], 'Text': 'POSTNATAL 60 SOFTGELS \\nPrice 6500 birr \\nTelegram https://t.me/lobelia4cosmetics\\nMsg👉 Lobelia pharmacy and cosmetics \\n☎️ call 0911562031/0911587703\\nAdress:- Infront of Bole Medhanialem high school \\nOpen Monday - Monday from 8am until midnight ከሰኞ - እስከ ሰኞ\\xa0 ከጧቱ 2:00 ስዓት - እስከ ምሽቱ 6:00 ሰዓት\\n🏍🏍🏍 የትራንስፖርት አማራጭ ከ70 - 200 ብር\\nFor delivery option fees are from 70 birr - 200 birr', 'Message': 'POSTNATAL 60 SOFTGELS Price 650 bir Telegram Msg Lobelia pharmacy and cosmetics ️ cal 091562031/09158703 Adres:- Infront of Bole Medhanialem high schol Open Monday - Monday from 8am until midnight ከሰኞ - እስከ ሰኞ ከጧቱ 2:0 ስአት - እስከ ምሽቱ 6:0 ሰአት የትራንስፖርት አማራጭ ከ70 - 20 ብር For delivery option fes are from 70 bir - 20 bir', 'Date': Timestamp('2025-02-03 13:17:53+0000', tz='UTC'), 'Sender ID': -1001666492664, 'Media Path': ['..\\\\resources\\\\media\\\\lobelia4cosmetics\\\\15267.jpg'], 'Channel': 'lobelia4cosmetics', 'Emojis': 'No Emoji', 'Links': []}, {'Group ID': 15266, 'Message IDs': [15266], 'Text': 'MULTI FOR HER 90 TABLETS \\nPrice 5000 birr \\nTelegram @Lobeliacosmetics\\nMsg👉 Lobelia pharmacy and cosmetics \\n☎️ call 0911562031/0911587703\\nAdress:- Infront of Bole Medhanialem high school ALEMNESH PLAZA GROUND FLOOR \\nOpen Monday - Monday from 8am until midnight ከሰኞ - እስከ ሰኞ\\xa0 ከጧቱ 2:00 ስዓት - እስከ ምሽቱ 6:00 ሰዓት\\n🏍🏍🏍 የትራንስፖርት አማራጭ ከ70 - 500 ብር\\nFor delivery option fees are from 70 birr - 500 birr', 'Message': 'MULTI FOR HER 90 TABLETS Price 50 bir Telegram @Lobeliacosmetics Msg Lobelia pharmacy and cosmetics ️ cal 091562031/09158703 Adres:- Infront of Bole Medhanialem high schol ALEMNESH PLAZA GROUND FLOR Open Monday - Monday from 8am until midnight ከሰኞ - እስከ ሰኞ ከጧቱ 2:0 ስአት - እስከ ምሽቱ 6:0 ሰአት የትራንስፖርት አማራጭ ከ70 - 50 ብር For delivery option fes are from 70 bir - 50 bir', 'Date': Timestamp('2025-02-03 13:17:53+0000', tz='UTC'), 'Sender ID': -1001666492664, 'Media Path': ['..\\\\resources\\\\media\\\\lobelia4cosmetics\\\\15266.jpg'], 'Channel': 'lobelia4cosmetics', 'Emojis': 'No Emoji', 'Links': []}, {'Group ID': 13908453853492524, 'Message IDs': [15265, 15264, 15263], 'Text': 'EOS LOTION \\nPrice 3800 birr \\nTelegram @Lobeliacosmetics\\nMsg👉 Lobelia pharmacy and cosmetics \\n☎️ call 0911562031/0911587703\\nAdress:- Infront of Bole Medhanialem high school \\nALEMNESH PLAZA GROUND FLOOR \\nOpen Monday - Monday from 8am until midnight ከሰኞ - እስከ ሰኞ\\xa0 ከጧቱ 2:00 ስዓት - እስከ ምሽቱ 6:00 ሰዓት\\n🏍🏍🏍 የትራንስፖርት አማራጭ ከ70 - 500 ብር\\nFor delivery option fees are from 70 birr - 500 birr', 'Message': 'EOS LOTION Price 380 bir Telegram @Lobeliacosmetics Msg Lobelia pharmacy and cosmetics ️ cal 091562031/09158703 Adres:- Infront of Bole Medhanialem high schol ALEMNESH PLAZA GROUND FLOR Open Monday - Monday from 8am until midnight ከሰኞ - እስከ ሰኞ ከጧቱ 2:0 ስአት - እስከ ምሽቱ 6:0 ሰአት የትራንስፖርት አማራጭ ከ70 - 50 ብር For delivery option fes are from 70 bir - 50 bir', 'Date': Timestamp('2025-02-03 04:25:31+0000', tz='UTC'), 'Sender ID': -1001666492664, 'Media Path': ['..\\\\resources\\\\media\\\\lobelia4cosmetics\\\\15265.jpg', '..\\\\resources\\\\media\\\\lobelia4cosmetics\\\\15264.jpg', '..\\\\resources\\\\media\\\\lobelia4cosmetics\\\\15263.jpg'], 'Channel': 'lobelia4cosmetics', 'Emojis': 'No Emoji', 'Links': []}, {'Group ID': 15262, 'Message IDs': [15262], 'Text': 'BATANA OIL 150ML\\nPrice 4500 birr \\nTelegram @Lobeliacosmetics\\nMsg👉 Lobelia pharmacy and cosmetics \\n☎️ call 0911562031/0911587703\\nAdress:- Infront of Bole Medhanialem high school \\nALEMNESH PLAZA GROUND FLOOR \\nOpen Monday - Monday from 8am until midnight ከሰኞ - እስከ ሰኞ\\xa0 ከጧቱ 2:00 ስዓት - እስከ ምሽቱ 6:00 ሰዓት\\n🏍🏍🏍 የትራንስፖርት አማራጭ ከ70 - 500 ብር\\nFor delivery option fees are from 70 birr - 500 birr', 'Message': 'BATANA OIL 150ML Price 450 bir Telegram @Lobeliacosmetics Msg Lobelia pharmacy and cosmetics ️ cal 091562031/09158703 Adres:- Infront of Bole Medhanialem high schol ALEMNESH PLAZA GROUND FLOR Open Monday - Monday from 8am until midnight ከሰኞ - እስከ ሰኞ ከጧቱ 2:0 ስአት - እስከ ምሽቱ 6:0 ሰአት የትራንስፖርት አማራጭ ከ70 - 50 ብር For delivery option fes are from 70 bir - 50 bir', 'Date': Timestamp('2025-02-03 04:25:31+0000', tz='UTC'), 'Sender ID': -1001666492664, 'Media Path': ['..\\\\resources\\\\media\\\\lobelia4cosmetics\\\\15262.jpg'], 'Channel': 'lobelia4cosmetics', 'Emojis': 'No Emoji', 'Links': []}, {'Group ID': 13900315571074244, 'Message IDs': [1247, 1246, 1245], 'Text': '🎗** ጥር የማህፀን በር ጫፍ ካንሰር የግንዛቤ ማስጨበጫ ወር ነው!** 💙✨\\n\\n🩺 ቁልፍ ማሳሰቢያዎች፡-\\n\\n**🔹 በመደበኛነት ይመርመሩ፡ የፓፕ ስሚር እና የ HPV ምርመራዎች ቀደም ብሎ ለመለየት አስፈላጊ ናቸው።\\n🔹 መከተብ፡ የ HPV ክትባት የማኅፀን በር ካንሰርን ለመከላከል ወሳኝ ነው።\\n🔹 ምልክቶቹን ይወቁ፡- ያልተለመደ የደም መፍሰስ፣ በግንኙነት ወቅት ህመም፣ መጥፎ ጠረን ያለው ፈሳሽ…ወዘተ**\\n\\n💡 የማህፀን በር ጫፍ ካንሰር **ቶሎ ከተገኘ ሊከላከሉት ከሚችሉ እና ሊታከሙ ከሚችሉ ካንሰሮች አንዱ ነው**። \\n\\n🛡 **የማህፀን በር ካንሰርን በመከላከል እና ቀድሞ በማከም በሽታውን መቀነስ ይቻላል::**\\n\\n✍️ ስለ የማህፀን በር ካንሰርን የበለጠ ለማንበብ የሚከተለውን ማስፈንጠሪያ ይጫኑ: [እዚህ ይጫኑ](https://cutt.ly/se3YngvH)', 'Message': 'ጥር የማህፀን በር ጫፍ ካንሰር የግንዛቤ ማስጨበጫ ወር ነው! ቁልፍ ማሳሰቢያዎች - በመደበኛነት ይመርመሩ የፓፕ ስሚር እና የ HPV ምርመራዎች ቀደም ብሎ ለመለየት አስፈላጊ ናቸው መከተብ የ HPV ክትባት የማህፀን በር ካንሰርን ለመከላከል ወሳኝ ነው ምልክቶቹን ይወቁ - ያልተለመደ የደም መፍሰስ በግንኙነት ወቅት ህመም መጥፎ ጠረን ያለው ፈሳሽ…ወዘተ የማህፀን በር ጫፍ ካንሰር ቶሎ ከተገኘ ሊከላከሉት ከሚችሉ እና ሊታከሙ ከሚችሉ ካንሰሮች አንዱ ነው የማህፀን በር ካንሰርን በመከላከል እና ቀድሞ በማከም በሽታውን መቀነስ ይቻላል: ️ ስለ የማህፀን በር ካንሰርን የበለጠ ለማንበብ የሚከተለውን ማስፈንጠሪያ ይጫኑ: እዚህ ይጫኑ', 'Date': Timestamp('2025-01-22 09:50:47+0000', tz='UTC'), 'Sender ID': -1001447066276, 'Media Path': ['..\\\\resources\\\\media\\\\yetenaweg\\\\1247.jpg', '..\\\\resources\\\\media\\\\yetenaweg\\\\1246.jpg', '..\\\\resources\\\\media\\\\yetenaweg\\\\1245.jpg'], 'Channel': 'yetenaweg', 'Emojis': 'No Emoji', 'Links': []}, {'Group ID': 1244, 'Message IDs': [1244], 'Text': None, 'Message': 'No Mesage', 'Date': Timestamp('2025-01-07 03:35:34+0000', tz='UTC'), 'Sender ID': -1001447066276, 'Media Path': [], 'Channel': 'yetenaweg', 'Emojis': 'No Emoji', 'Links': []}, {'Group ID': 1243, 'Message IDs': [1243], 'Text': '**🌍🤔 ርእደ መሬት ቢከሰት ምን ማድረግ እንዳለብዎት ያውቃሉ? **\\n\\n**⚠️ርእደ መሬት ያለምንም ማስጠንቀቂያ  ሊከሰት ይችላል፣ ይህም በህይወት እና ንብረት ላይ ከፍተኛ ጉዳት ያስከትላል። \\n\\n✅ዝግጁ መሆን  ደህንነትን ለመጠበቅ የመጀመሪያው እርምጃ ነው—እራስዎን ይጠብቁ ፣ የአደጋ ጊዜ እቅድ ይኑርዎት፣ ርእደ መሬት በሚከሰትበት ጊዜ እና በኋላ ምን ማድረግ እንዳለቦት ይወቁ:-**\\n\\n\\n👉 **ባሉበት ዝቅ ይበሉ፣ በእጆችዎ  እና ጉልበቶችዎ ይሂዱ**። ይህ አካሄድ በሚወድቁ ነገሮች እና ፍርስራሾች ከመመታት እና መውደቅ ይከላከላል፣ ወደ ደህንነት ሳይጎዱ እንዲሄዱ ያስችላል🚨 ።\\n\\n👉 **ጭንቅላትዎን እና አንገትዎን በእጅዎ ይሸፍ**ኑ ፣ ጠንካራ ጠረጴዛ በአቅራቢያ ካለ ከሱ ስር ለጥበቃ በመግባት ይጠለሉ 🛡።\\n\\n👉 ምንም መጠለያ ከሌለ፣ **ከመስኮቶች ይራቁ**፣ ወደ የቤቱ/ህንጻ ውስጠኛው ግድግዳ ይሂዱ እና እራስዎን ከሚወድቁ ነገሮች ወይም ፍርስራሾች ለመከላከል **ጎንበስ ይበሉ** 🛡።\\n\\n**❗️በጠረጴዛ  ስር ከተጠለሉ በመንቀጥቀጡ ጊዜ ሊንቀሳቀስ ስለሚችሉ አጥብቀው ይያዙት።\\n❗️ጭንቅላትዎን እና አንገትዎን በእጅዎ ይሸፍኑ ፣ መጠለያ ከሌለ መንቀጥቀጡ እስኪቆም ድረስ በሁለቱም እጆችዎ ጭንቅላትዎን እና አንገትዎን በመሸፈን እራስዎን ይጠብቁ።**\\n\\n**🌍📱በመሬት መንቀጥቀጥ ወቅት የእርስዎንም ሆነ የቤተሰብዎን ደህንነት ለመጠበቅ  ወቅታዊ የሆኑ ማንቂያዎችን፣ መመሪያዎችን ለማግኘት ይህን መተግበሪያ ይጠቀሙ**:-\\n\\n👉**IOS**[**:**](https://apps.apple.com/us/app/rilevatore-terremoto/id1449893235) እዚህ ይጫኑ[ ](https://play.google.com/store/apps/details?id=com.finazzi.distquake)**\\n👉Android: **[እዚህ ይጫኑ ](https://play.google.com/store/apps/details?id=com.finazzi.distquake)\\n**👉Huawei App Gallery**: [እዚህ ይጫኑ](https://appgallery7.huawei.com/#/app/C101792515)', 'Message': 'ርእደ መሬት ቢከሰት ምን ማድረግ እንዳለብዎት ያውቃሉ? ️ርእደ መሬት ያለምንም ማስጠንቀቂያ ሊከሰት ይችላል ይህም በህይወት እና ንብረት ላይ ከፍተኛ ጉዳት ያስከትላል ዝግጁ መሆን ደህንነትን ለመጠበቅ የመጀመሪያው እርምጃ ነው—እራስዎን ይጠብቁ የአደጋ ጊዜ እቅድ ይኑርዎት ርእደ መሬት በሚከሰትበት ጊዜ እና በኋላ ምን ማድረግ እንዳለቦት ይወቁ:- ባሉበት ዝቅ ይበሉ በእጆችዎ እና ጉልበቶችዎ ይሂዱ ይህ አካሄድ በሚወድቁ ነገሮች እና ፍርስራሾች ከመታት እና መውደቅ ይከላከላል ወደ ደህንነት ሳይጎዱ እንዲሄዱ ያስችላል ጭንቅላትዎን እና አንገትዎን በእጅዎ ይሸፍኑ ጠንካራ ጠረጴዛ በአቅራቢያ ካለ ከሱ ስር ለጥበቃ በመግባት ይጠለሉ ምንም መጠለያ ከሌለ ከመስኮቶች ይራቁ ወደ የቤቱ/ህንጻ ውስጠኛው ግድግዳ ይሂዱ እና እራስዎን ከሚወድቁ ነገሮች ወይም ፍርስራሾች ለመከላከል ጎንበስ ይበሉ ️በጠረጴዛ ስር ከተጠለሉ በመንቀጥቀጡ ጊዜ ሊንቀሳቀስ ስለሚችሉ አጥብቀው ይያዙት ️ጭንቅላትዎን እና አንገትዎን በእጅዎ ይሸፍኑ መጠለያ ከሌለ መንቀጥቀጡ እስኪቆም ድረስ በሁለቱም እጆችዎ ጭንቅላትዎን እና አንገትዎን በመሸፈን እራስዎን ይጠብቁ በመሬት መንቀጥቀጥ ወቅት የእርስዎንም ሆነ የቤተሰብዎን ደህንነት ለመጠበቅ ወቅታዊ የሆኑ ማንቂያዎችን መሪያዎችን ለማግኘት ይህን መተግበሪያ ይጠቀሙ:- IOS: እዚህ ይጫኑ Android: እዚህ ይጫኑ Huawei Ap Galery: እዚህ ይጫኑ', 'Date': Timestamp('2025-01-07 03:35:26+0000', tz='UTC'), 'Sender ID': -1001447066276, 'Media Path': ['..\\\\resources\\\\media\\\\yetenaweg\\\\1243.jpg'], 'Channel': 'yetenaweg', 'Emojis': 'No Emoji', 'Links': []}, {'Group ID': 1242, 'Message IDs': [1242], 'Text': '🎙✨ **የጤና ወግ ቪዲዮ ፖድካስት** ✨🎙\\n\\n🤝ከ **EngenderHealth **እና ከ**Saint Paul Institute for Reproductive Health and Rights (SPIRHR)** ጋር በመተባበር:\\n\\n                            **👨\\u200d👩\\u200d👧\\u200d👦የቤተሰብ ምጣኔ👨\\u200d👩\\u200d👧\\u200d👦**\\n\\n🌟 ውይይቱ ውስጥ የተካተቱት ርዕሶች፡-\\n\\n**🤔 የቤተሰብ ምጣኔ ማለት ምን ማለት ነው።\\n💊🤱 የተለያዩ አይነት የእርግዝና መከላከያ ዘዴዎች እና አጠቃቀማቸው\\n⚖️ ጥቅሞቻቸው፣ ጉዳቶቻቸው እና ውጤታማነታቸው\\n💡💑 ለፍላጎትዎ ትክክለኛውን የእርግዝና መከላከያ ዘዴ መምረጥ\\n💬 እና ሌሎች ተጨማሪ የመወያያ** **ነጥቦች **\\n\\n👉ውይይቱን ለመመልከት [እዚህ ይጫኑ ](https://youtu.be/hdoMn7aXZKk)\\n\\n**🌟የዩቲዩብ ቻናላችንን ሰብስክራይብ በማድረግ በቀጣይ አዲስ ፖድካስቶች፣ በጤና እና ደህንነት ጉዳዮች ላይ ከባለሙያ ጋር ያደረኛቸው ውይይቶችን ማግኘት ይችላሉ። 🎙\\n\\n📹 YouTube: ****https://www.youtube.com/c/YeTenaWeg?sub_confirmation=1**\\n\\n**📱 አዳዲስ መረጃዎችን ለማግኘት በማህበራዊ ሚዲያዎቻችን ላይ ይከተሉን:\\n\\n📸 Instagram: ****https://instagram.com/yetena_weg?r=nametag****\\n🐦 Twitter: ****https://twitter.com/yetenaw?s=21&t=NyVsmz_NUwSnHTOXIw8vZw****\\n📘 Facebook: ****https://www.facebook.com/YeTenaw****\\n📹 YouTube: ****https://www.youtube.com/c/YeTenaWeg?sub_confirmation=1****\\n🌐 Website: ****https://yetenaweg.com/**** \\n💼 LinkedIn: ****https://www.linkedin.com/company/yetena-weg/**', 'Message': 'የጤና ወግ ቪዲዮ ፖድካስት ከ EngenderHealth እና ከSaint Paul Institute for Reproductive Health and Rights (SPIRHR) ጋር በመተባበር: \\u200dየቤተሰብ ምጣኔ\\u200d ውይቱ ውስጥ የተካተቱት ርእሶች - የቤተሰብ ምጣኔ ማለት ምን ማለት ነው የተለያዩ አይነት የእርግዝና መከላከያ ዘዴዎች እና አጠቃቀማቸው ️ ጥቅሞቻቸው ጉዳቶቻቸው እና ውጤታማነታቸው ለፍላጎትዎ ትክለኛውን የእርግዝና መከላከያ ዘዴ መምረጥ እና ሌሎች ተጨማሪ የመወያ ነጥቦች ውይቱን ለመልከት እዚህ ይጫኑ የዩቲዩብ ቻናላችን ሰብስክራይብ በማድረግ በቀጣይ አዲስ ፖድካስቶች በጤና እና ደህንነት ጉዳዮች ላይ ከባለሙያ ጋር ያደረኛቸው ውይቶችን ማግኘት ይችላሉ YouTube: አዳዲስ መረጃዎችን ለማግኘት በማህበራዊ ሚዲያዎቻችን ላይ ይከተሉን: Instagram: Twiter: Facebok: YouTube: Website: LinkedIn:', 'Date': Timestamp('2024-12-16 07:08:46+0000', tz='UTC'), 'Sender ID': -1001447066276, 'Media Path': [], 'Channel': 'yetenaweg', 'Emojis': 'No Emoji', 'Links': []}, {'Group ID': 1241, 'Message IDs': [1241], 'Text': '**🎙✨ የጤና ወግ ቪዲዮ ፖድካስት ✨🎙**\\n\\nበ **EngenderHealth **እና **Saint Paul Institute for Reproductive Health and Rights (SPIRHR) **ጋር በመተባበር:\\n       \\n**🧒➡️🧑ጉርምስና🔄** \\n\\n🌟 የተካተቱት ርዕሶች:\\n\\n**__🔹 በጉርምስና ወቅት ምን ለውጦች ይከሰታሉ?\\n🔹 👨\\u200d👩\\u200d👧\\u200d👦 ወላጆች ስለ-ስነ ተዋልዶ ጤንነት ከልጆቻቸው ጋር መቼ መወያየት አለባቸው?\\n🔹 🧑\\u200d⚕️ ወጣቶች በመረጃ ላይ የተመሰረተ ምርጫ ማድረግ የሚችሉት እንዴት ነው?\\n💬 እና ሌሎች ተጨማሪ ውይይቶች!__**\\n\\n👉ውይይቱን ለመመልከት [እዚህ ይጫኑ ](https://youtu.be/GCthKAXhQ2o)\\n\\n**🌟የዩቲዩብ ቻናላችንን ሰብስክራይብ በማድረግ በቀጣይ አዲስ ፖድካስቶች፣ በጤና እና ደህንነት ጉዳዮች ላይ ከባለሙያ ጋር ያደረኛቸው ውይይቶችን ማግኘት ይችላሉ። 🎙\\n\\n📹 YouTube: ****https://www.youtube.com/c/YeTenaWeg?sub_confirmation=1**\\n\\n**📱 አዳዲስ መረጃዎችን ለማግኘት በማህበራዊ ሚዲያዎቻችን ላይ ይከተሉን:\\n\\n📸 Instagram: ****https://instagram.com/yetena_weg?r=nametag****\\n🐦 Twitter: ****https://twitter.com/yetenaw?s=21&t=NyVsmz_NUwSnHTOXIw8vZw****\\n📘 Facebook: ****https://www.facebook.com/YeTenaw****\\n📹 YouTube: ****https://www.youtube.com/c/YeTenaWeg?sub_confirmation=1****\\n🌐 Website: ****https://yetenaweg.com/**** \\n💼 LinkedIn: ****https://www.linkedin.com/company/yetena-weg/**', 'Message': 'የጤና ወግ ቪዲዮ ፖድካስት በ EngenderHealth እና Saint Paul Institute for Reproductive Health and Rights (SPIRHR) ጋር በመተባበር: ️ጉርምስና የተካተቱት ርእሶች: በጉርምስና ወቅት ምን ለውጦች ይከሰታሉ? \\u200d ወላጆች ስለ-ስነ ተዋልዶ ጤንነት ከልጆቻቸው ጋር መቼ መወያየት አለባቸው? \\u200d️ ወጣቶች በመረጃ ላይ የተመሰረተ ምርጫ ማድረግ የሚችሉት እንዴት ነው? እና ሌሎች ተጨማሪ ውይቶች! ውይቱን ለመልከት እዚህ ይጫኑ የዩቲዩብ ቻናላችን ሰብስክራይብ በማድረግ በቀጣይ አዲስ ፖድካስቶች በጤና እና ደህንነት ጉዳዮች ላይ ከባለሙያ ጋር ያደረኛቸው ውይቶችን ማግኘት ይችላሉ YouTube: አዳዲስ መረጃዎችን ለማግኘት በማህበራዊ ሚዲያዎቻችን ላይ ይከተሉን: Instagram: Twiter: Facebok: YouTube: Website: LinkedIn:', 'Date': Timestamp('2024-12-13 06:49:28+0000', tz='UTC'), 'Sender ID': -1001447066276, 'Media Path': [], 'Channel': 'yetenaweg', 'Emojis': 'No Emoji', 'Links': []}, {'Group ID': 1240, 'Message IDs': [1240], 'Text': '**🎙✨ የጤና ወግ ቪዲዮ ፖድካስት ✨🎙**\\n\\n**🤝ከ EngenderHealth እና ከSaint Paul Institute for Reproductive Health and Rights (SPIRHR) ጋር በመተባበር:**\\n**\\n                     🤰🏾 የድህረ ወሊድ ጤና 🤱🏾**\\n\\n__🧍🏽\\u200d♀️ ከወሊድ በኋላ የሚከሰቱ ቁልፍ ውስጣዊ እና ውጪያዊ አካላዊ ለውጦች\\n❗️ከወሊድ በኋላ ሊመጡ የሚችሉ  ችግሮች ምልክቶች\\n💊 የእርግዝና መከላከያ አማራጮች\\n🍎 አመጋገብ እና የአመጋገብ ስርአት\\n🏃\\u200d♀️ የአካል ብቃት እንቅስቃሴ__\\n\\n👉**ውይይቱን ለመመልከት **[**እዚህ ይጫኑ **](https://youtu.be/uGctUFrOV38)\\n**\\n🌟የዩቲዩብ ቻናላችንን ሰብስክራይብ በማድረግ በቀጣይ አዲስ ፖድካስቶች፣ በጤና እና ደህንነት ጉዳዮች ላይ ከባለሙያ ጋር ያደረኛቸው ውይይቶችን ማግኘት ይችላሉ። 🎙\\n\\n📹 YouTube: ****https://www.youtube.com/c/YeTenaWeg?sub_confirmation=1****\\n**\\n**📱 አዳዲስ መረጃዎችን ለማግኘት በማህበራዊ ሚዲያ መለያዎቻን  ይከተሉን:\\n\\n📸 Instagram: ****https://instagram.com/yetena_weg?r=nametag****\\n🐦 X(Twitter): ****https://twitter.com/yetenaw?s=21&t=NyVsmz_NUwSnHTOXIw8vZw****\\n📘 Facebook: ****https://www.facebook.com/YeTenaw****\\n🌐 Website: ****https://yetenaweg.com/**', 'Message': 'የጤና ወግ ቪዲዮ ፖድካስት ከ EngenderHealth እና ከSaint Paul Institute for Reproductive Health and Rights (SPIRHR) ጋር በመተባበር: የድህረ ወሊድ ጤና \\u200d️ ከወሊድ በኋላ የሚከሰቱ ቁልፍ ውስጣዊ እና ውጪያዊ አካላዊ ለውጦች ️ከወሊድ በኋላ ሊመጡ የሚችሉ ችግሮች ምልክቶች የእርግዝና መከላከያ አማራጮች አመጋገብ እና የአመጋገብ ስርአት \\u200d️ የአካል ብቃት እንቅስቃሴ ውይቱን ለመልከት እዚህ ይጫኑ የዩቲዩብ ቻናላችን ሰብስክራይብ በማድረግ በቀጣይ አዲስ ፖድካስቶች በጤና እና ደህንነት ጉዳዮች ላይ ከባለሙያ ጋር ያደረኛቸው ውይቶችን ማግኘት ይችላሉ YouTube: አዳዲስ መረጃዎችን ለማግኘት በማህበራዊ ሚዲያ መለያዎቻን ይከተሉን: Instagram: X(Twiter): Facebok: Website:', 'Date': Timestamp('2024-12-12 03:02:57+0000', tz='UTC'), 'Sender ID': -1001447066276, 'Media Path': [], 'Channel': 'yetenaweg', 'Emojis': 'No Emoji', 'Links': []}, {'Group ID': 1239, 'Message IDs': [1239], 'Text': 'የኩላሊት ለጋሽ መሆን፦ ማወቅ ያለብን ነገሮች።\\n\\nበኢትዮጵያ የኩላሊት ህመም\\xa0 ከፍተኛ የጤና ተግዳሮት ሲሆን ብዙ ግለሰቦችን ያጠቃል። በተጨማሪም የጤና ስርዓቱ ላይ ከባድ ሸክም እየፈጠረ ነው። በመጨረሻ ደረጃ የኩላሊት በሽታ ለሚሰቃዩ የኩላሊት ንቅለ-ተከላ\\xa0 በጣም ውጤታማ የሕክምና አማራጭ ነው። የኩላሊት እጥበት የኩላሊትን ተግባራት በመፈጸም ህይወትን ማቆየት ቢችልም እንደኩላሊት ንቅለ ተከላ ጥሩ ኑሮ ወይም ረጅም የህይወት ዘመን አይሰጥም። የኩላሊት እጥበት \\xa0ብዙ ጊዜ ሆስፒታል መመላለስን ስለሚስከስት ለታካሚዎች አካላዊ እና ስሜታዊ ጉዳት ያመጣል። በአንፃሩ የተሳካ የኩላሊት ንቅለ ተከላ የኩላሊት መደበኛ ስራን ወደነበረበት እንዲመለስ በማድረግ ታካሚዎች ጤናማ እና ጥሩ ህይወት እንዲመሩ ያስችላቸዋል።\\nበህይወት እያሉ ኩላሊት መለገስ የተቀባዩን ህይወት በእጅጉ ከማሻሻል በተጨማሪ ህይወቱን ያድኑታል ። ይህ ጽሁፍ የኩላሊት ለጋሽ የመሆን ሂደትን ከመጀመሪያ ምርመራ ጀምሮ እስከ ድህረ ልገሳ ድረስ ለማብራራት ያለመ ነው። ይህንን\\xa0 በማቅረብ፣ ብዙ ግለሰቦች በህይወት እያሉ የኩላሊት ለጋሾች በመሆን ሊያመጡ የሚችሉትን ከፍተኛ ተጽዕኖ እንዲያስቡ ያበረታታል\\n\\nRobel Habtamu Ababiya M.D, General Practitioner, Lecturer\\n\\nhttps://yetenaweg.com/%e1%8b%a8%e1%8a%a9%e1%88%8b%e1%88%8a%e1%89%b5-%e1%88%88%e1%8c%8b%e1%88%bd-%e1%88%98%e1%88%86%e1%8a%95%e1%8d%a6-%e1%88%9b%e1%8b%88%e1%89%85-%e1%8b%ab%e1%88%88%e1%89%a5%e1%8a%95-%e1%8a%90%e1%8c%88/', 'Message': 'የኩላሊት ለጋሽ መሆን ማወቅ ያለብን ነገሮች በኢትዮጵያ የኩላሊት ህመም ከፍተኛ የጤና ተግዳሮት ሲሆን ብዙ ግለሰቦችን ያጠቃል በተጨማሪም የጤና ስርአቱ ላይ ከባድ ሸክም እየፈጠረ ነው በመጨረሻ ደረጃ የኩላሊት በሽታ ለሚሰቃዩ የኩላሊት ንቅለ-ተከላ በጣም ውጤታማ የህክምና አማራጭ ነው የኩላሊት እጥበት የኩላሊትን ተግባራት በመፈጸም ህይወትን ማቆየት ቢችልም እንደኩላሊት ንቅለ ተከላ ጥሩ ኑሮ ወይም ረጅም የህይወት ዘመን አይሰጥም የኩላሊት እጥበት ብዙ ጊዜ ሆስፒታል መላለስን ስለሚስከስት ለታካሚዎች አካላዊ እና ስሜታዊ ጉዳት ያመጣል በአንፃሩ የተሳካ የኩላሊት ንቅለ ተከላ የኩላሊት መደበኛ ስራን ወደነበረበት እንዲመለስ በማድረግ ታካሚዎች ጤናማ እና ጥሩ ህይወት እንዲመሩ ያስችላቸዋል በህይወት እያሉ ኩላሊት መለገስ የተቀባዩን ህይወት በእጅጉ ከማሻል በተጨማሪ ህይወቱን ያድኑታል ይህ ጽሁፍ የኩላሊት ለጋሽ የመሆን ሂደትን ከመጀመሪያ ምርመራ ጀምሮ እስከ ድህረ ልገሳ ድረስ ለማብራት ያለመ ነው ይህን በማቅረብ ብዙ ግለሰቦች በህይወት እያሉ የኩላሊት ለጋሾች በመሆን ሊያመጡ የሚችሉትን ከፍተኛ ተጽእኖ እንዲያስቡ ያበረታል Robel Habtamu Ababiya M.D, General Practitioner, Lecturer', 'Date': Timestamp('2024-12-11 15:11:40+0000', tz='UTC'), 'Sender ID': -1001447066276, 'Media Path': [], 'Channel': 'yetenaweg', 'Emojis': 'No Emoji', 'Links': []}, {'Group ID': 13870588509264940, 'Message IDs': [1238], 'Text': '', 'Message': '', 'Date': Timestamp('2024-12-10 09:39:25+0000', tz='UTC'), 'Sender ID': -1001447066276, 'Media Path': ['..\\\\resources\\\\media\\\\yetenaweg\\\\1238.jpg'], 'Channel': 'yetenaweg', 'Emojis': 'No Emoji', 'Links': []}]\n",
      "2025-02-03 14:23:03 - [✅ INFO] - Successfully Inserted 46 records into PostgreSQL table: messages\n",
      "2025-02-03 14:23:03 - [✅ INFO] - Cleaned data saved successfully.\n"
     ]
    },
    {
     "data": {
      "text/html": [
       "<div>\n",
       "<style scoped>\n",
       "    .dataframe tbody tr th:only-of-type {\n",
       "        vertical-align: middle;\n",
       "    }\n",
       "\n",
       "    .dataframe tbody tr th {\n",
       "        vertical-align: top;\n",
       "    }\n",
       "\n",
       "    .dataframe thead th {\n",
       "        text-align: right;\n",
       "    }\n",
       "</style>\n",
       "<table border=\"1\" class=\"dataframe\">\n",
       "  <thead>\n",
       "    <tr style=\"text-align: right;\">\n",
       "      <th></th>\n",
       "      <th>Group ID</th>\n",
       "      <th>Message IDs</th>\n",
       "      <th>Text</th>\n",
       "      <th>Message</th>\n",
       "      <th>Date</th>\n",
       "      <th>Sender ID</th>\n",
       "      <th>Media Path</th>\n",
       "      <th>Channel</th>\n",
       "      <th>Emojis</th>\n",
       "      <th>Links</th>\n",
       "    </tr>\n",
       "  </thead>\n",
       "  <tbody>\n",
       "    <tr>\n",
       "      <th>0</th>\n",
       "      <td>97</td>\n",
       "      <td>[97]</td>\n",
       "      <td>⚠️**Notice!\\n**Dear esteemed customers,\\nDue t...</td>\n",
       "      <td>️Notice! Dear estemed customers, Due to four-d...</td>\n",
       "      <td>2023-02-10 12:23:06+00:00</td>\n",
       "      <td>-1001627056354</td>\n",
       "      <td>[..\\resources\\media\\CheMed123\\97.jpg]</td>\n",
       "      <td>CheMed123</td>\n",
       "      <td>No Emoji</td>\n",
       "      <td>[]</td>\n",
       "    </tr>\n",
       "    <tr>\n",
       "      <th>1</th>\n",
       "      <td>96</td>\n",
       "      <td>[96]</td>\n",
       "      <td>Mela-One በውስጡ ሆርሞን ያለው ድንገተኛ ወሊድ መቆጣጠርያ ሲሆን ያለ...</td>\n",
       "      <td>Mela-One በውስጡ ሆርሞን ያለው ድንገተኛ ወሊድ መቆጣጠርያ ሲሆን ያለ...</td>\n",
       "      <td>2023-02-02 08:58:52+00:00</td>\n",
       "      <td>-1001627056354</td>\n",
       "      <td>[..\\resources\\media\\CheMed123\\96.jpg]</td>\n",
       "      <td>CheMed123</td>\n",
       "      <td>No Emoji</td>\n",
       "      <td>[]</td>\n",
       "    </tr>\n",
       "    <tr>\n",
       "      <th>2</th>\n",
       "      <td>95</td>\n",
       "      <td>[95]</td>\n",
       "      <td>**አዚትሮማይሲን** በሃኪም መድሃኒት ማዘዣ ከሚታዘዙ አንቲባዮቲኮች አንዱ...</td>\n",
       "      <td>አዚትሮማይሲን በሃኪም መድሃኒት ማዘዣ ከሚታዘዙ አንቲባዮቲኮች አንዱ ሲሆን...</td>\n",
       "      <td>2023-02-01 08:59:37+00:00</td>\n",
       "      <td>-1001627056354</td>\n",
       "      <td>[..\\resources\\media\\CheMed123\\95.jpg]</td>\n",
       "      <td>CheMed123</td>\n",
       "      <td>No Emoji</td>\n",
       "      <td>[]</td>\n",
       "    </tr>\n",
       "    <tr>\n",
       "      <th>3</th>\n",
       "      <td>94</td>\n",
       "      <td>[94]</td>\n",
       "      <td>**Che-Med Trivia #3\\n\\n**ምግብና መጠጦች አንዳንድ መድሃኒቶ...</td>\n",
       "      <td>Che-Med Trivia #3 ምግብና መጠጦች አንዳንድ መድሃኒቶች በደንብ ...</td>\n",
       "      <td>2023-01-31 09:19:53+00:00</td>\n",
       "      <td>-1001627056354</td>\n",
       "      <td>[..\\resources\\media\\CheMed123\\94.jpg]</td>\n",
       "      <td>CheMed123</td>\n",
       "      <td>No Emoji</td>\n",
       "      <td>[]</td>\n",
       "    </tr>\n",
       "    <tr>\n",
       "      <th>4</th>\n",
       "      <td>93</td>\n",
       "      <td>[93]</td>\n",
       "      <td>**Che-Med Trivia #2\\n\\n**እንደ Ciprofloxacin, Do...</td>\n",
       "      <td>Che-Med Trivia #2 እንደ Ciprofloxacin, Doxycycli...</td>\n",
       "      <td>2023-01-30 09:45:25+00:00</td>\n",
       "      <td>-1001627056354</td>\n",
       "      <td>[..\\resources\\media\\CheMed123\\93.jpg]</td>\n",
       "      <td>CheMed123</td>\n",
       "      <td>No Emoji</td>\n",
       "      <td>[]</td>\n",
       "    </tr>\n",
       "  </tbody>\n",
       "</table>\n",
       "</div>"
      ],
      "text/plain": [
       "   Group ID Message IDs                                               Text  \\\n",
       "0        97        [97]  ⚠️**Notice!\\n**Dear esteemed customers,\\nDue t...   \n",
       "1        96        [96]  Mela-One በውስጡ ሆርሞን ያለው ድንገተኛ ወሊድ መቆጣጠርያ ሲሆን ያለ...   \n",
       "2        95        [95]  **አዚትሮማይሲን** በሃኪም መድሃኒት ማዘዣ ከሚታዘዙ አንቲባዮቲኮች አንዱ...   \n",
       "3        94        [94]  **Che-Med Trivia #3\\n\\n**ምግብና መጠጦች አንዳንድ መድሃኒቶ...   \n",
       "4        93        [93]  **Che-Med Trivia #2\\n\\n**እንደ Ciprofloxacin, Do...   \n",
       "\n",
       "                                             Message  \\\n",
       "0  ️Notice! Dear estemed customers, Due to four-d...   \n",
       "1  Mela-One በውስጡ ሆርሞን ያለው ድንገተኛ ወሊድ መቆጣጠርያ ሲሆን ያለ...   \n",
       "2  አዚትሮማይሲን በሃኪም መድሃኒት ማዘዣ ከሚታዘዙ አንቲባዮቲኮች አንዱ ሲሆን...   \n",
       "3  Che-Med Trivia #3 ምግብና መጠጦች አንዳንድ መድሃኒቶች በደንብ ...   \n",
       "4  Che-Med Trivia #2 እንደ Ciprofloxacin, Doxycycli...   \n",
       "\n",
       "                       Date      Sender ID  \\\n",
       "0 2023-02-10 12:23:06+00:00 -1001627056354   \n",
       "1 2023-02-02 08:58:52+00:00 -1001627056354   \n",
       "2 2023-02-01 08:59:37+00:00 -1001627056354   \n",
       "3 2023-01-31 09:19:53+00:00 -1001627056354   \n",
       "4 2023-01-30 09:45:25+00:00 -1001627056354   \n",
       "\n",
       "                              Media Path    Channel    Emojis Links  \n",
       "0  [..\\resources\\media\\CheMed123\\97.jpg]  CheMed123  No Emoji    []  \n",
       "1  [..\\resources\\media\\CheMed123\\96.jpg]  CheMed123  No Emoji    []  \n",
       "2  [..\\resources\\media\\CheMed123\\95.jpg]  CheMed123  No Emoji    []  \n",
       "3  [..\\resources\\media\\CheMed123\\94.jpg]  CheMed123  No Emoji    []  \n",
       "4  [..\\resources\\media\\CheMed123\\93.jpg]  CheMed123  No Emoji    []  "
      ]
     },
     "execution_count": 30,
     "metadata": {},
     "output_type": "execute_result"
    }
   ],
   "source": [
    "# ['Channel Username', 'Message ID', 'Message', 'Date', 'Sender ID', 'Media']\n",
    "preprocessed_data = await preprocess_data(data, 'postgres')\n",
    "preprocessed_data.head()"
   ]
  },
  {
   "cell_type": "code",
   "execution_count": 33,
   "metadata": {},
   "outputs": [
    {
     "data": {
      "text/html": [
       "<div>\n",
       "<style scoped>\n",
       "    .dataframe tbody tr th:only-of-type {\n",
       "        vertical-align: middle;\n",
       "    }\n",
       "\n",
       "    .dataframe tbody tr th {\n",
       "        vertical-align: top;\n",
       "    }\n",
       "\n",
       "    .dataframe thead th {\n",
       "        text-align: right;\n",
       "    }\n",
       "</style>\n",
       "<table border=\"1\" class=\"dataframe\">\n",
       "  <thead>\n",
       "    <tr style=\"text-align: right;\">\n",
       "      <th></th>\n",
       "      <th>Group ID</th>\n",
       "      <th>Message IDs</th>\n",
       "      <th>Text</th>\n",
       "      <th>Message</th>\n",
       "      <th>Date</th>\n",
       "      <th>Sender ID</th>\n",
       "      <th>Media Path</th>\n",
       "      <th>Channel</th>\n",
       "      <th>Emojis</th>\n",
       "      <th>Links</th>\n",
       "    </tr>\n",
       "  </thead>\n",
       "  <tbody>\n",
       "    <tr>\n",
       "      <th>36</th>\n",
       "      <td>13908453853492524</td>\n",
       "      <td>[15265, 15264, 15263]</td>\n",
       "      <td>EOS LOTION \\nPrice 3800 birr \\nTelegram @Lobel...</td>\n",
       "      <td>EOS LOTION Price 380 bir Telegram @Lobeliacosm...</td>\n",
       "      <td>2025-02-03 04:25:31+00:00</td>\n",
       "      <td>-1001666492664</td>\n",
       "      <td>[..\\resources\\media\\lobelia4cosmetics\\15265.jp...</td>\n",
       "      <td>lobelia4cosmetics</td>\n",
       "      <td>No Emoji</td>\n",
       "      <td>[]</td>\n",
       "    </tr>\n",
       "    <tr>\n",
       "      <th>38</th>\n",
       "      <td>13900315571074244</td>\n",
       "      <td>[1247, 1246, 1245]</td>\n",
       "      <td>🎗** ጥር የማህፀን በር ጫፍ ካንሰር የግንዛቤ ማስጨበጫ ወር ነው!** 💙...</td>\n",
       "      <td>ጥር የማህፀን በር ጫፍ ካንሰር የግንዛቤ ማስጨበጫ ወር ነው! ቁልፍ ማሳሰ...</td>\n",
       "      <td>2025-01-22 09:50:47+00:00</td>\n",
       "      <td>-1001447066276</td>\n",
       "      <td>[..\\resources\\media\\yetenaweg\\1247.jpg, ..\\res...</td>\n",
       "      <td>yetenaweg</td>\n",
       "      <td>No Emoji</td>\n",
       "      <td>[]</td>\n",
       "    </tr>\n",
       "  </tbody>\n",
       "</table>\n",
       "</div>"
      ],
      "text/plain": [
       "             Group ID            Message IDs  \\\n",
       "36  13908453853492524  [15265, 15264, 15263]   \n",
       "38  13900315571074244     [1247, 1246, 1245]   \n",
       "\n",
       "                                                 Text  \\\n",
       "36  EOS LOTION \\nPrice 3800 birr \\nTelegram @Lobel...   \n",
       "38  🎗** ጥር የማህፀን በር ጫፍ ካንሰር የግንዛቤ ማስጨበጫ ወር ነው!** 💙...   \n",
       "\n",
       "                                              Message  \\\n",
       "36  EOS LOTION Price 380 bir Telegram @Lobeliacosm...   \n",
       "38  ጥር የማህፀን በር ጫፍ ካንሰር የግንዛቤ ማስጨበጫ ወር ነው! ቁልፍ ማሳሰ...   \n",
       "\n",
       "                        Date      Sender ID  \\\n",
       "36 2025-02-03 04:25:31+00:00 -1001666492664   \n",
       "38 2025-01-22 09:50:47+00:00 -1001447066276   \n",
       "\n",
       "                                           Media Path            Channel  \\\n",
       "36  [..\\resources\\media\\lobelia4cosmetics\\15265.jp...  lobelia4cosmetics   \n",
       "38  [..\\resources\\media\\yetenaweg\\1247.jpg, ..\\res...          yetenaweg   \n",
       "\n",
       "      Emojis Links  \n",
       "36  No Emoji    []  \n",
       "38  No Emoji    []  "
      ]
     },
     "execution_count": 33,
     "metadata": {},
     "output_type": "execute_result"
    }
   ],
   "source": [
    "preprocessed_data[preprocessed_data['Message IDs'].apply(lambda x : len(x) > 1)]"
   ]
  },
  {
   "cell_type": "code",
   "execution_count": null,
   "metadata": {},
   "outputs": [],
   "source": []
  }
 ],
 "metadata": {
  "kernelspec": {
   "display_name": ".venv",
   "language": "python",
   "name": "python3"
  },
  "language_info": {
   "codemirror_mode": {
    "name": "ipython",
    "version": 3
   },
   "file_extension": ".py",
   "mimetype": "text/x-python",
   "name": "python",
   "nbconvert_exporter": "python",
   "pygments_lexer": "ipython3",
   "version": "3.12.1"
  }
 },
 "nbformat": 4,
 "nbformat_minor": 2
}
